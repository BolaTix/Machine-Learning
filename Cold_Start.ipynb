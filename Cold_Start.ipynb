{
  "nbformat": 4,
  "nbformat_minor": 0,
  "metadata": {
    "colab": {
      "provenance": []
    },
    "kernelspec": {
      "name": "python3",
      "display_name": "Python 3"
    },
    "language_info": {
      "name": "python"
    }
  },
  "cells": [
    {
      "cell_type": "code",
      "execution_count": null,
      "metadata": {
        "id": "OkcupoIRCve7"
      },
      "outputs": [],
      "source": [
        "import pandas as pd\n",
        "import numpy as np\n",
        "import requests\n",
        "from sklearn.preprocessing import LabelEncoder, StandardScaler\n",
        "import tensorflow as tf\n",
        "from tensorflow.keras.models import load_model\n",
        "from sklearn.metrics.pairwise import cosine_similarity\n",
        "from sklearn.preprocessing import normalize\n",
        "from datetime import datetime"
      ]
    },
    {
      "cell_type": "code",
      "source": [
        "# Mengambil data historis pengguna dari API\n",
        "def fetch_purchase_history(api_url):\n",
        "    response = requests.get(api_url)\n",
        "    if response.status_code == 200:\n",
        "        data = response.json()\n",
        "        return pd.DataFrame(data)\n",
        "    else:\n",
        "        raise Exception(\"Failed to fetch purchase history\")\n",
        "\n",
        "# Memuat data pertandingan dari CSV\n",
        "def load_match_data(csv_path):\n",
        "    return pd.read_csv(csv_path)\n",
        "\n",
        "# URL API dan path CSV\n",
        "api_url = \"https://raw.githubusercontent.com/alvinfebrianto/BolaTix-API/refs/heads/main/bolatix.json\"\n",
        "csv_path = \"/content/DATASET - data liga 1.csv\"  # Ganti dengan path sebenarnya\n",
        "\n",
        "# Mengambil data\n",
        "purchase_history = fetch_purchase_history(api_url)\n",
        "matches = load_match_data(csv_path)\n",
        "\n",
        "print(\"Data Historis Pengguna:\")\n",
        "print(purchase_history.head())\n",
        "\n",
        "print(\"\\nData Pertandingan:\")\n",
        "print(matches.head())"
      ],
      "metadata": {
        "colab": {
          "base_uri": "https://localhost:8080/"
        },
        "id": "gBFnoh5uDBD-",
        "outputId": "405035ef-aade-4c60-f10d-2fc154ae5966"
      },
      "execution_count": 13,
      "outputs": [
        {
          "output_type": "stream",
          "name": "stdout",
          "text": [
            "Data Historis Pengguna:\n",
            "   userId userName favoriteTeam idMatch                          match  \\\n",
            "0       5    Rizky       Persib                                          \n",
            "1       4     Kiki  Bali United       1            Persib vs PSBS Biak   \n",
            "2       3   Jeffry    Persebaya       2  Madura United vs Malut United   \n",
            "3       2     Aryo     Arema FC       3         PSM Makassar vs PERSIS   \n",
            "4       1  Aransha      Persija       4       Persija vs Barito Putera   \n",
            "\n",
            "        date   time                        stadium  \n",
            "0                                                   \n",
            "1   9/8/2024  20:00       Stadion Si Jalak Harupat  \n",
            "2  10/8/2024  16:30      Stadion Gelora Bangkalan   \n",
            "3  10/8/2024  16:30                Stadion Batakan  \n",
            "4  10/8/2024  20:00  Jakarta International Stadium  \n",
            "\n",
            "Data Pertandingan:\n",
            "   ID Match             Home           Away                           Match  \\\n",
            "0         1          Persib       PSBS Biak             Persib vs PSBS Biak   \n",
            "1         2  Madura United     Malut United  Madura United  vs Malut United   \n",
            "2         3    PSM Makassar          PERSIS          PSM Makassar vs PERSIS   \n",
            "3         4         Persija   Barito Putera        Persija vs Barito Putera   \n",
            "4         5            PSIS         Persita                 PSIS vs Persita   \n",
            "\n",
            "   Jumlah Tiket Terjual                        Stadion      Lokasi     Hari  \\\n",
            "0                 10949       Stadion Si Jalak Harupat     Bandung  Weekday   \n",
            "1                   672      Stadion Gelora Bangkalan       Madura  Weekend   \n",
            "2                  2408                Stadion Batakan  Balikpapan  Weekend   \n",
            "3                  8672  Jakarta International Stadium     Jakarta  Weekend   \n",
            "4                  1706         Stadion Madya Magelang    Magelang  Weekend   \n",
            "\n",
            "   Waktu   Tanggal        Jam  \n",
            "0  Malam   9/8/2024  20:00:00  \n",
            "1   Sore  10/8/2024  16:30:00  \n",
            "2   Sore  10/8/2024  16:30:00  \n",
            "3  Malam  10/8/2024  20:00:00  \n",
            "4   Sore  11/8/2024  16:30:00  \n"
          ]
        }
      ]
    },
    {
      "cell_type": "code",
      "source": [
        "# Konversi tipe data idMatch menjadi int, menangani nilai kosong\n",
        "purchase_history['idMatch'] = pd.to_numeric(purchase_history['idMatch'], errors='coerce').fillna(0).astype(int)\n",
        "\n",
        "# Verifikasi setelah konversi\n",
        "print(\"Tipe data idMatch di purchase_history setelah konversi:\", purchase_history['idMatch'].dtype)"
      ],
      "metadata": {
        "colab": {
          "base_uri": "https://localhost:8080/"
        },
        "id": "87WQfzlIIQ5v",
        "outputId": "34d8fe11-5f8a-4707-f696-37809091fa11"
      },
      "execution_count": null,
      "outputs": [
        {
          "output_type": "stream",
          "name": "stdout",
          "text": [
            "Tipe data idMatch di purchase_history setelah konversi: int64\n"
          ]
        }
      ]
    },
    {
      "cell_type": "code",
      "source": [
        "# Memastikan konsistensi tipe data\n",
        "# Ubah ID Match di matches menjadi integer (jika belum)\n",
        "matches['ID Match'] = matches['ID Match'].astype(int)"
      ],
      "metadata": {
        "id": "zAC7pN8hld0w"
      },
      "execution_count": null,
      "outputs": []
    },
    {
      "cell_type": "code",
      "source": [
        "print(\"Tipe data idMatch di purchase_history:\", purchase_history['idMatch'].dtype)\n",
        "print(\"Tipe data ID Match di matches:\", matches['ID Match'].dtype) #"
      ],
      "metadata": {
        "colab": {
          "base_uri": "https://localhost:8080/"
        },
        "id": "HSsogePlIQ3a",
        "outputId": "5426bdcc-da14-4e9d-81bb-7c977b8e9f3a"
      },
      "execution_count": null,
      "outputs": [
        {
          "output_type": "stream",
          "name": "stdout",
          "text": [
            "Tipe data idMatch di purchase_history: int64\n",
            "Tipe data ID Match di matches: int64\n"
          ]
        }
      ]
    },
    {
      "cell_type": "code",
      "source": [
        "# Pastikan kolom Tanggal adalah datetime\n",
        "matches['Tanggal '] = pd.to_datetime(matches['Tanggal '], format='%d/%m/%Y', errors='coerce')\n",
        "\n",
        "# Isi nilai NaT (NaN untuk datetime) dengan tanggal default atau info lainnya\n",
        "matches['Tanggal '] = matches['Tanggal '].fillna('Tanggal tidak tersedia')"
      ],
      "metadata": {
        "id": "ejnNQ57ZmT1C"
      },
      "execution_count": null,
      "outputs": []
    },
    {
      "cell_type": "code",
      "source": [
        "# Fungsi utama untuk merekomendasikan\n",
        "def recommend(user_id, purchase_history, matches, N=10):\n",
        "    # Filter data pengguna berdasarkan user_id\n",
        "    user_data = purchase_history[purchase_history['userId'] == user_id]\n",
        "\n",
        "    if user_data.empty:\n",
        "        # Jika user_id tidak ada di API\n",
        "        print(\"Maaf, ID Anda tidak ada di API.\")\n",
        "        return pd.DataFrame()\n",
        "\n",
        "    # Jika user sudah memiliki tim kesayangan dari data API\n",
        "    favorite_teams = user_data['favoriteTeam'].dropna().unique().tolist()\n",
        "\n",
        "    # Rekomendasi berdasarkan tim kesayangan\n",
        "    recommendations = recommend_for_favorite_teams(matches, favorite_teams, N)\n",
        "\n",
        "    return recommendations"
      ],
      "metadata": {
        "id": "G8OWePYUIXou"
      },
      "execution_count": null,
      "outputs": []
    },
    {
      "cell_type": "code",
      "source": [
        "# Rekomendasi untuk pengguna berdasarkan tim kesayangan\n",
        "def recommend_for_favorite_teams(matches, favorite_teams, N=10):\n",
        "    # Filter pertandingan yang melibatkan tim favorit (case insensitive)\n",
        "    favorite_matches = matches[matches['Home'].str.lower().isin([team.lower() for team in favorite_teams]) | matches['Away'].str.lower().isin([team.lower() for team in favorite_teams])].copy()\n",
        "\n",
        "    # Tampilkan jumlah pertandingan yang ditemukan setelah filter tim favorit\n",
        "    print(f\"Jumlah pertandingan yang melibatkan tim favorit ({favorite_teams}): {len(favorite_matches)}\")\n",
        "\n",
        "    # Pastikan kolom Tanggal adalah datetime\n",
        "    favorite_matches['Tanggal '] = pd.to_datetime(favorite_matches['Tanggal '], errors='coerce')\n",
        "\n",
        "    # Menghapus pertandingan yang tidak memiliki tanggal valid\n",
        "    favorite_matches = favorite_matches.dropna(subset=['Tanggal '])\n",
        "\n",
        "    # Filter pertandingan yang tanggalnya lebih besar atau sama dengan hari ini\n",
        "    today = datetime.now()\n",
        "    favorite_matches = favorite_matches[favorite_matches['Tanggal '] >= today]\n",
        "\n",
        "    # Tampilkan jumlah pertandingan setelah memfilter tanggal valid\n",
        "    print(f\"Jumlah pertandingan setelah memfilter tanggal valid: {len(favorite_matches)}\")\n",
        "\n",
        "    # Urutkan berdasarkan tanggal untuk memastikan relevansi (tanggal terdekat terlebih dahulu)\n",
        "    favorite_matches = favorite_matches.sort_values(by='Tanggal ', ascending=True)\n",
        "\n",
        "    # Ubah format tanggal menjadi tanggal-bulan-tahun\n",
        "    favorite_matches['Tanggal '] = favorite_matches['Tanggal '].dt.strftime('%d-%m-%Y')\n",
        "\n",
        "    # Jika terlalu banyak, pilih yang paling baru atau sesuai kriteria lain\n",
        "    recommendations = favorite_matches.head(N)\n",
        "    return recommendations"
      ],
      "metadata": {
        "id": "Lvw6X3JUIdtc"
      },
      "execution_count": null,
      "outputs": []
    },
    {
      "cell_type": "code",
      "source": [
        "# Contoh penggunaan\n",
        "user_id = 3\n",
        "recommendations = recommend(user_id, purchase_history, matches, N=10)\n",
        "print(\"\\nRekomendasi:\")\n",
        "if not recommendations.empty:\n",
        "    print(recommendations[['ID Match', 'Home', 'Away', 'Tanggal ']].to_string(index=False))\n",
        "else:\n",
        "    print(\"Tidak ada rekomendasi yang relevan.\")"
      ],
      "metadata": {
        "id": "Ojtqv2aRIdrD",
        "colab": {
          "base_uri": "https://localhost:8080/"
        },
        "outputId": "8e712909-7c46-45c4-a470-612f478f7d40"
      },
      "execution_count": null,
      "outputs": [
        {
          "output_type": "stream",
          "name": "stdout",
          "text": [
            "Jumlah pertandingan yang melibatkan tim favorit (['Persebaya']): 29\n",
            "Jumlah pertandingan setelah memfilter tanggal valid: 11\n",
            "\n",
            "Rekomendasi:\n",
            " ID Match           Home         Away   Tanggal \n",
            "      105  Madura United    Persebaya 02-12-2024\n",
            "      112      Persebaya     Arema FC 07-12-2024\n",
            "      120      Persebaya       Persik 11-12-2024\n",
            "      128  Semen Padang     Persebaya 15-12-2024\n",
            "      137      Persebaya    Borneo FC 20-12-2024\n",
            "      150    Bali United    Persebaya 28-12-2024\n",
            "      157     PSS Sleman    Persebaya 11-01-2025\n",
            "      163      Persebaya Malut United 17-01-2025\n",
            "      175 Barito putera     Persebaya 25-01-2025\n",
            "      182      Persebaya      Persita 31-01-2025\n"
          ]
        }
      ]
    },
    {
      "cell_type": "code",
      "source": [],
      "metadata": {
        "id": "OLN5hT8DtS4L"
      },
      "execution_count": null,
      "outputs": []
    }
  ]
}