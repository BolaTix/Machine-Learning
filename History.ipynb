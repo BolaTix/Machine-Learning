{
  "cells": [
    {
      "cell_type": "code",
      "execution_count": 24,
      "metadata": {
        "id": "UMfqk5N84Gvt"
      },
      "outputs": [],
      "source": [
        "import pandas as pd\n",
        "import numpy as np\n",
        "import tensorflow as tf\n",
        "from tensorflow.keras.models import Model\n",
        "from tensorflow.keras.layers import Input, Embedding, Flatten, Dot, Dense, Concatenate\n",
        "from sklearn.model_selection import train_test_split\n",
        "import requests\n",
        "from sklearn.preprocessing import LabelEncoder, StandardScaler\n",
        "from sklearn.metrics.pairwise import cosine_similarity\n",
        "import matplotlib.pyplot as plt\n",
        "from datetime import datetime"
      ]
    },
    {
      "cell_type": "code",
      "execution_count": 25,
      "metadata": {
        "id": "187Yh2gB-xu8"
      },
      "outputs": [],
      "source": [
        "# Mengambil data historis pengguna dari API\n",
        "def fetch_purchase_history(api_url):\n",
        "    response = requests.get(api_url)\n",
        "    if response.status_code == 200:\n",
        "        data = response.json()\n",
        "        return pd.DataFrame(data)\n",
        "    else:\n",
        "        raise Exception(\"Failed to fetch purchase history\")"
      ]
    },
    {
      "cell_type": "code",
      "execution_count": 26,
      "metadata": {
        "id": "MagxfejvLd12"
      },
      "outputs": [],
      "source": [
        "# Memuat data pertandingan dari CSV\n",
        "def load_match_data(csv_path):\n",
        "    return pd.read_csv(csv_path)\n",
        "\n",
        "# URL API dan path CSV\n",
        "api_url = \"https://raw.githubusercontent.com/alvinfebrianto/BolaTix-API/refs/heads/main/bolatix.json\"\n",
        "csv_path = \"/content/DATASET - data liga 1.csv\""
      ]
    },
    {
      "cell_type": "code",
      "execution_count": 27,
      "metadata": {
        "colab": {
          "base_uri": "https://localhost:8080/"
        },
        "id": "wUdQ7ZvGLfYB",
        "outputId": "7c6e5db6-f07a-452f-b9a4-086547385937"
      },
      "outputs": [
        {
          "output_type": "stream",
          "name": "stdout",
          "text": [
            "Data Historis Pengguna:\n",
            "   userId userName favoriteTeam idMatch                          match  \\\n",
            "0       5    Rizky       Persib                                          \n",
            "1       4     Kiki  Bali United       1            Persib vs PSBS Biak   \n",
            "2       3   Jeffry    Persebaya       2  Madura United vs Malut United   \n",
            "3       2     Aryo     Arema FC       3         PSM Makassar vs PERSIS   \n",
            "4       1  Aransha      Persija       4       Persija vs Barito Putera   \n",
            "\n",
            "        date   time                        stadium  \n",
            "0                                                   \n",
            "1   9/8/2024  20:00       Stadion Si Jalak Harupat  \n",
            "2  10/8/2024  16:30      Stadion Gelora Bangkalan   \n",
            "3  10/8/2024  16:30                Stadion Batakan  \n",
            "4  10/8/2024  20:00  Jakarta International Stadium  \n",
            "\n",
            "Data Pertandingan:\n",
            "   ID Match             Home           Away                           Match  \\\n",
            "0         1          Persib       PSBS Biak             Persib vs PSBS Biak   \n",
            "1         2  Madura United     Malut United  Madura United  vs Malut United   \n",
            "2         3    PSM Makassar          PERSIS          PSM Makassar vs PERSIS   \n",
            "3         4         Persija   Barito Putera        Persija vs Barito Putera   \n",
            "4         5            PSIS         Persita                 PSIS vs Persita   \n",
            "\n",
            "   Jumlah Tiket Terjual                        Stadion      Lokasi     Hari  \\\n",
            "0                 10949       Stadion Si Jalak Harupat     Bandung  Weekday   \n",
            "1                   672      Stadion Gelora Bangkalan       Madura  Weekend   \n",
            "2                  2408                Stadion Batakan  Balikpapan  Weekend   \n",
            "3                  8672  Jakarta International Stadium     Jakarta  Weekend   \n",
            "4                  1706         Stadion Madya Magelang    Magelang  Weekend   \n",
            "\n",
            "   Waktu   Tanggal        Jam  \n",
            "0  Malam   9/8/2024  20:00:00  \n",
            "1   Sore  10/8/2024  16:30:00  \n",
            "2   Sore  10/8/2024  16:30:00  \n",
            "3  Malam  10/8/2024  20:00:00  \n",
            "4   Sore  11/8/2024  16:30:00  \n"
          ]
        }
      ],
      "source": [
        "# Mengambil data\n",
        "purchase_history = fetch_purchase_history(api_url)\n",
        "matches = load_match_data(csv_path)\n",
        "\n",
        "print(\"Data Historis Pengguna:\")\n",
        "print(purchase_history.head())\n",
        "\n",
        "print(\"\\nData Pertandingan:\")\n",
        "print(matches.head())"
      ]
    },
    {
      "cell_type": "markdown",
      "metadata": {
        "id": "5fZXp7ktMIP6"
      },
      "source": [
        "# **Preprocessing**"
      ]
    },
    {
      "cell_type": "markdown",
      "source": [
        "konversi tipe data **idMatch** menjadi **int**. Mengubah kolom idMatch di purchase_history menjadi tipe data integer. Jika ada nilai yang tidak bisa dikonversi (misalnya string), diubah menjadi NaN lalu diisi dengan 0. Agar tipe data konsisten dengan matches['ID Match'] untuk penggabungan data.\n"
      ],
      "metadata": {
        "id": "igHn8UdKPkn7"
      }
    },
    {
      "cell_type": "code",
      "execution_count": 28,
      "metadata": {
        "colab": {
          "base_uri": "https://localhost:8080/"
        },
        "id": "vIcTJIUqD3i3",
        "outputId": "254b0b6e-c86d-4b97-a072-7f6b90b0b72c"
      },
      "outputs": [
        {
          "output_type": "stream",
          "name": "stdout",
          "text": [
            "Tipe data idMatch di purchase_history setelah konversi: int64\n"
          ]
        }
      ],
      "source": [
        "# Konversi tipe data idMatch menjadi int, menangani nilai kosong\n",
        "purchase_history['idMatch'] = pd.to_numeric(purchase_history['idMatch'], errors='coerce').fillna(0).astype(int)\n",
        "\n",
        "# Verifikasi setelah konversi\n",
        "print(\"Tipe data idMatch di purchase_history setelah konversi:\", purchase_history['idMatch'].dtype)"
      ]
    },
    {
      "cell_type": "code",
      "execution_count": 30,
      "metadata": {
        "colab": {
          "base_uri": "https://localhost:8080/"
        },
        "id": "1zvt6wid4Wbr",
        "outputId": "897306f5-6d8d-480c-8871-b2a6a1f082ee"
      },
      "outputs": [
        {
          "output_type": "stream",
          "name": "stdout",
          "text": [
            "Tipe data idMatch di purchase_history: int64\n",
            "Tipe data ID Match di matches: int64\n"
          ]
        }
      ],
      "source": [
        "print(\"Tipe data idMatch di purchase_history:\", purchase_history['idMatch'].dtype)\n",
        "print(\"Tipe data ID Match di matches:\", matches['ID Match'].dtype)"
      ]
    },
    {
      "cell_type": "code",
      "execution_count": 31,
      "metadata": {
        "colab": {
          "base_uri": "https://localhost:8080/"
        },
        "id": "DWjYaJXn4g5b",
        "outputId": "c64bccfa-1842-4423-95aa-484fe0370da8"
      },
      "outputs": [
        {
          "output_type": "stream",
          "name": "stdout",
          "text": [
            "Pertandingan yang cocok di matches setelah konversi tipe data:\n",
            "   ID Match             Home           Away   Tanggal \n",
            "0         1          Persib       PSBS Biak   9/8/2024\n",
            "1         2  Madura United     Malut United  10/8/2024\n",
            "2         3    PSM Makassar          PERSIS  10/8/2024\n",
            "3         4         Persija   Barito Putera  10/8/2024\n"
          ]
        }
      ],
      "source": [
        "user_match_ids = purchase_history['idMatch'].unique()\n",
        "user_matches = matches[matches['ID Match'].isin(user_match_ids)]\n",
        "\n",
        "print(\"Pertandingan yang cocok di matches setelah konversi tipe data:\")\n",
        "print(user_matches[['ID Match', 'Home', 'Away', 'Tanggal ']])"
      ]
    },
    {
      "cell_type": "code",
      "execution_count": 32,
      "metadata": {
        "id": "vhGtuakYoCTw"
      },
      "outputs": [],
      "source": [
        "# Memastikan konsistensi tipe data pp\n",
        "# Ubah idMatch di purchase_history menjadi integer\n",
        "purchase_history['idMatch'] = purchase_history['idMatch'].astype(int)\n",
        "\n",
        "# Ubah ID Match di matches menjadi integer (jika belum)\n",
        "matches['ID Match'] = matches['ID Match'].astype(int)"
      ]
    },
    {
      "cell_type": "markdown",
      "source": [
        "menggabungkan data purchase_history dengan matches berdasarkan idMatch.\n",
        "\n",
        "Mengisi nilai kosong:\n",
        "1. Kolom tanggal diisi dengan NaT\n",
        "2. Kolom lain diisi dengan 0\n",
        "\n"
      ],
      "metadata": {
        "id": "p4NYvs-zSUp2"
      }
    },
    {
      "cell_type": "code",
      "execution_count": 33,
      "metadata": {
        "id": "XPGOg6BZ-_E2"
      },
      "outputs": [],
      "source": [
        "# Gabungkan data berdasarkan ID Match\n",
        "def preprocess_data(purchase_history, matches):\n",
        "    # Gabungkan data berdasarkan ID Match\n",
        "    merged_data = purchase_history.merge(matches, left_on='idMatch', right_on='ID Match', how='left')\n",
        "\n",
        "    # Mengisi nilai kosong pada kolom yang tidak cocok dengan NaT untuk tanggal dan 0 untuk yang lain\n",
        "    merged_data['Tanggal '] = merged_data['Tanggal '].fillna(pd.NaT)\n",
        "    merged_data.fillna(0, inplace=True)\n",
        "\n",
        "    return merged_data"
      ]
    },
    {
      "cell_type": "code",
      "execution_count": 34,
      "metadata": {
        "colab": {
          "base_uri": "https://localhost:8080/"
        },
        "id": "ynw0b-d4o8sc",
        "outputId": "cd647faf-b8d5-452a-aa79-bb95eaf76297"
      },
      "outputs": [
        {
          "output_type": "stream",
          "name": "stdout",
          "text": [
            "\n",
            "Data Setelah Penggabungan:\n",
            "   userId userName favoriteTeam  idMatch                          match  \\\n",
            "0       5    Rizky       Persib        0                                  \n",
            "1       4     Kiki  Bali United        1            Persib vs PSBS Biak   \n",
            "2       3   Jeffry    Persebaya        2  Madura United vs Malut United   \n",
            "3       2     Aryo     Arema FC        3         PSM Makassar vs PERSIS   \n",
            "4       1  Aransha      Persija        4       Persija vs Barito Putera   \n",
            "\n",
            "        date   time                        stadium  ID Match             Home  \\\n",
            "0                                                        0.0                0   \n",
            "1   9/8/2024  20:00       Stadion Si Jalak Harupat       1.0          Persib    \n",
            "2  10/8/2024  16:30      Stadion Gelora Bangkalan        2.0  Madura United     \n",
            "3  10/8/2024  16:30                Stadion Batakan       3.0    PSM Makassar    \n",
            "4  10/8/2024  20:00  Jakarta International Stadium       4.0         Persija    \n",
            "\n",
            "            Away                           Match  Jumlah Tiket Terjual  \\\n",
            "0              0                               0                   0.0   \n",
            "1      PSBS Biak             Persib vs PSBS Biak               10949.0   \n",
            "2   Malut United  Madura United  vs Malut United                 672.0   \n",
            "3         PERSIS          PSM Makassar vs PERSIS                2408.0   \n",
            "4  Barito Putera        Persija vs Barito Putera                8672.0   \n",
            "\n",
            "                         Stadion      Lokasi     Hari  Waktu   Tanggal   \\\n",
            "0                              0           0        0      0          0   \n",
            "1       Stadion Si Jalak Harupat     Bandung  Weekday  Malam   9/8/2024   \n",
            "2      Stadion Gelora Bangkalan       Madura  Weekend   Sore  10/8/2024   \n",
            "3                Stadion Batakan  Balikpapan  Weekend   Sore  10/8/2024   \n",
            "4  Jakarta International Stadium     Jakarta  Weekend  Malam  10/8/2024   \n",
            "\n",
            "        Jam  \n",
            "0         0  \n",
            "1  20:00:00  \n",
            "2  16:30:00  \n",
            "3  16:30:00  \n",
            "4  20:00:00  \n"
          ]
        }
      ],
      "source": [
        "# Mengolah data\n",
        "processed_data = preprocess_data(purchase_history, matches)\n",
        "\n",
        "# Menampilkan hasil setelah penggabungan\n",
        "print(\"\\nData Setelah Penggabungan:\")\n",
        "print(processed_data.head())"
      ]
    },
    {
      "cell_type": "code",
      "execution_count": 35,
      "metadata": {
        "colab": {
          "base_uri": "https://localhost:8080/"
        },
        "id": "VX8ScnVf2Bgl",
        "outputId": "6f0ba9b4-8393-44c7-f791-ef8d8f134701"
      },
      "outputs": [
        {
          "output_type": "stream",
          "name": "stdout",
          "text": [
            "ID Match di purchase_history: [0 1 2 3 4]\n",
            "ID Match di matches: [  1   2   3   4   5   6   7   8   9  10  11  12  13  14  15  16  17  18\n",
            "  19  20  21  22  23  24  25  26  27  28  29  30  31  32  33  34  35  36\n",
            "  37  38  39  40  41  42  43  44  45  46  47  48  49  50  51  52  53  54\n",
            "  55  56  57  58  59  60  61  62  63  64  65  66  67  68  69  70  71  72\n",
            "  73  74  75  76  77  78  79  80  81  82  83  84  85  86  87  88  89  90\n",
            "  91  92  93  94  95  96  97  98  99 100 101 102 103 104 105 106 107 108\n",
            " 109 110 111 112 113 114 115 116 117 118 119 120 121 122 123 124 125 126\n",
            " 127 128 129 130 131 132 133 134 135 136 137 138 139 140 141 142 143 144\n",
            " 145 146 147 148 149 150 151 152 153 154 155 156 157 158 159 160 161 162\n",
            " 163 164 165 166 167 168 169 170 171 172 173 174 175 176 177 178 179 180\n",
            " 181 182 183 184 185 186 187 188 189 190 191 192 193 194 195 196 197 198\n",
            " 199 200 201 202 203 204 205 206 207 208 209 210 211 212 213 214 215 216\n",
            " 217 218 219 220 221 222 223 224 225 226 227 228 229 230 231 232 233 234\n",
            " 235 236 237 238 239 240 241 242 243 244 245 246 247 248 249 250 251 252\n",
            " 253 254 255 256 257 258 259 260 261 262 263 264 265 266 267 268 269 270\n",
            " 271 272 273 274 275 276 277 278 279 280 281 282 283 284 285 286 287 288\n",
            " 289 290 291 292 293 294 295 296 297 298 299 300 301 302 303 304 305 306]\n"
          ]
        }
      ],
      "source": [
        "print(\"ID Match di purchase_history:\", purchase_history['idMatch'].unique())\n",
        "print(\"ID Match di matches:\", matches['ID Match'].unique())"
      ]
    },
    {
      "cell_type": "markdown",
      "metadata": {
        "id": "1o20PHppMPA7"
      },
      "source": [
        "# **Model Rekomendasi**"
      ]
    },
    {
      "cell_type": "code",
      "execution_count": 14,
      "metadata": {
        "id": "C_X2YwPZ_dBA"
      },
      "outputs": [],
      "source": [
        "def feature_engineering(matches, match_date):\n",
        "    # Encode nama tim\n",
        "    le = LabelEncoder()\n",
        "    matches['home_team_encoded'] = le.fit_transform(matches['Home'])\n",
        "    matches['away_team_encoded'] = le.fit_transform(matches['Away'])\n",
        "\n",
        "    # Konversi kolom Tanggal ke datetime\n",
        "    matches['Tanggal '] = pd.to_datetime(matches['Tanggal '], format='%d/%m/%Y', errors='coerce')\n",
        "\n",
        "    # Isi nilai kosong pada Tanggal dengan nilai minimum\n",
        "    matches['Tanggal '] = matches['Tanggal '].fillna(pd.Timestamp.min)\n",
        "\n",
        "    # Fitur tambahan: match_day\n",
        "    matches['match_day'] = matches['Tanggal '].dt.dayofyear\n",
        "\n",
        "    # Standarisasi fitur numerik\n",
        "    scaler = StandardScaler()\n",
        "    matches[['match_day']] = scaler.fit_transform(matches[['match_day']])\n",
        "\n",
        "    # Komentari atau hapus filter ini untuk sementara\n",
        "    # matches = matches[matches['Tanggal '] > match_date].sort_values(by='Tanggal ')\n",
        "\n",
        "    return matches, le, scaler\n",
        "#revisi filter tanggal"
      ]
    },
    {
      "cell_type": "code",
      "execution_count": 38,
      "metadata": {
        "id": "Z5aGvbeODRax"
      },
      "outputs": [],
      "source": [
        "# Membuat representasi fitur pertandingan\n",
        "def create_match_vectors(matches):\n",
        "    feature_columns = ['home_team_encoded', 'away_team_encoded', 'match_day']\n",
        "    match_vectors = matches[feature_columns].values\n",
        "    return match_vectors"
      ]
    },
    {
      "cell_type": "code",
      "execution_count": 37,
      "metadata": {
        "id": "DDC-wS92MmfW"
      },
      "outputs": [],
      "source": [
        "def create_user_vector(purchase_history, matches):\n",
        "    # Ambil tim-tim yang relevan dari purchase_history\n",
        "    teams = set()\n",
        "    for match in purchase_history['match']:\n",
        "        try:\n",
        "            home, away = match.split(\" vs \")\n",
        "            teams.add(home.strip())\n",
        "            teams.add(away.strip())\n",
        "        except ValueError:\n",
        "            print(f\"Skipping invalid match format: {match}\")\n",
        "            continue\n",
        "\n",
        "    # Filter pertandingan berdasarkan tim relevan\n",
        "    team_matches = matches[matches['Home'].isin(teams) | matches['Away'].isin(teams)]\n",
        "    if team_matches.empty:\n",
        "        print(\"Tidak ada tim relevan yang cocok untuk membuat vektor pengguna.\")\n",
        "        return np.zeros(matches.shape[1])  # Kembalikan vektor nol jika tidak ada data\n",
        "\n",
        "    # Buat vektor dari pertandingan yang melibatkan tim relevan\n",
        "    user_vector = create_match_vectors(team_matches)\n",
        "    return np.nan_to_num(np.mean(user_vector, axis=0))\n"
      ]
    },
    {
      "cell_type": "code",
      "execution_count": 40,
      "metadata": {
        "colab": {
          "base_uri": "https://localhost:8080/"
        },
        "id": "w70gfd4bVRSw",
        "outputId": "05797186-f1a7-419b-d420-82f6f60c083e"
      },
      "outputs": [
        {
          "output_type": "stream",
          "name": "stdout",
          "text": [
            "Skipping invalid match format: \n"
          ]
        }
      ],
      "source": [
        "# Preparing the data\n",
        "matches, le, scaler = feature_engineering(matches, pd.to_datetime('today'))\n",
        "match_vectors = create_match_vectors(matches)\n",
        "user_vector = create_user_vector(purchase_history, matches)"
      ]
    },
    {
      "cell_type": "code",
      "execution_count": 41,
      "metadata": {
        "id": "eB_gN2OaMs25"
      },
      "outputs": [],
      "source": [
        "# Membuat model sederhana menggunakan Dense Layers\n",
        "def build_model(input_dim, embedding_dim=50):\n",
        "    model = tf.keras.Sequential([\n",
        "        tf.keras.layers.Input(shape=(input_dim,)),  # Input layer\n",
        "        tf.keras.layers.Dense(embedding_dim, activation='relu'),\n",
        "        tf.keras.layers.Dense(embedding_dim, activation='relu'),\n",
        "        tf.keras.layers.Dense(embedding_dim, activation=None)  # Output layer tanpa aktivasi\n",
        "    ])\n",
        "    model.compile(optimizer='adam', loss='mse')\n",
        "    return model\n",
        "\n",
        "input_dim = match_vectors.shape[1]\n",
        "model = build_model(input_dim)\n",
        "\n",
        "# Melatih model untuk mendapatkan representasi vektor\n",
        "# Karena data terbatas, kita bisa melatih autoencoder atau model serupa\n",
        "# Untuk kesederhanaan, kita asumsikan match_vectors sudah representatif"
      ]
    },
    {
      "cell_type": "code",
      "execution_count": 42,
      "metadata": {
        "id": "cSW3mFYC7oZq"
      },
      "outputs": [],
      "source": [
        "# Filter pertandingan berdasarkan purchase history\n",
        "def filter_matches_by_purchase_history(purchase_history, matches):\n",
        "    user_match_ids = purchase_history['idMatch'].unique()\n",
        "    return matches[matches['ID Match'].isin(user_match_ids)]"
      ]
    },
    {
      "cell_type": "code",
      "execution_count": 44,
      "metadata": {
        "id": "TucIf8cEDqO4"
      },
      "outputs": [],
      "source": [
        "def get_recommendations_by_teams(purchase_history, matches, user_id, N=10):\n",
        "    today_date = datetime.now()\n",
        "    print(f\"Tanggal hari ini: {today_date.strftime('%d-%m-%Y')}\")\n",
        "\n",
        "    # Filter user purchase history\n",
        "    user_purchase_history = purchase_history[purchase_history['userId'] == user_id]\n",
        "    if user_purchase_history.empty:\n",
        "        print(f\"Tidak ada data pembelian untuk userId {user_id}.\")\n",
        "        return pd.DataFrame()\n",
        "\n",
        "    # Extract relevant teams from user purchase history\n",
        "    teams = set()\n",
        "    for match in user_purchase_history['match']:\n",
        "        try:\n",
        "            home, away = match.split(\" vs \")\n",
        "            teams.add(home.strip())\n",
        "            teams.add(away.strip())\n",
        "        except ValueError:\n",
        "            continue\n",
        "\n",
        "    # Filter matches involving relevant teams and happening after today\n",
        "    matches['Tanggal '] = pd.to_datetime(matches['Tanggal '], format='%d/%m/%Y', errors='coerce')\n",
        "    relevant_matches = matches[\n",
        "        (matches['Home'].isin(teams) | matches['Away'].isin(teams)) &\n",
        "        (matches['Tanggal '] > today_date)\n",
        "    ].copy()\n",
        "\n",
        "    # Tambahkan pertandingan mendatang lainnya jika kurang dari N\n",
        "    if relevant_matches.shape[0] < N:\n",
        "        additional_matches = matches[matches['Tanggal '] > today_date].copy()\n",
        "        additional_matches = additional_matches[~additional_matches['ID Match'].isin(relevant_matches['ID Match'])]\n",
        "        relevant_matches = pd.concat([relevant_matches, additional_matches]).head(N)\n",
        "\n",
        "    if relevant_matches.empty:\n",
        "        print(\"Tidak ada pertandingan yang relevan ditemukan setelah tanggal hari ini.\")\n",
        "        return pd.DataFrame()\n",
        "\n",
        "    # Format tanggal menjadi 'dd-mm-yyyy'\n",
        "    relevant_matches['Tanggal '] = relevant_matches['Tanggal '].dt.strftime('%d-%m-%Y')\n",
        "\n",
        "    # Adding a placeholder similarity score for demonstration\n",
        "    relevant_matches['similarity_score'] = 1.0  # In practice, use real similarity calculation\n",
        "    return relevant_matches.sort_values(by='similarity_score', ascending=False).head(N)"
      ]
    },
    {
      "cell_type": "code",
      "execution_count": 45,
      "metadata": {
        "colab": {
          "base_uri": "https://localhost:8080/"
        },
        "id": "U1Q0TfQvT9WB",
        "outputId": "ea9cf90c-dd66-4ceb-afdd-c6de8e72f9e2"
      },
      "outputs": [
        {
          "output_type": "stream",
          "name": "stdout",
          "text": [
            "Epoch 1/10\n",
            "\u001b[1m16/16\u001b[0m \u001b[32m━━━━━━━━━━━━━━━━━━━━\u001b[0m\u001b[37m\u001b[0m \u001b[1m1s\u001b[0m 13ms/step - loss: 6.6504 - val_loss: 1.9469\n",
            "Epoch 2/10\n",
            "\u001b[1m16/16\u001b[0m \u001b[32m━━━━━━━━━━━━━━━━━━━━\u001b[0m\u001b[37m\u001b[0m \u001b[1m0s\u001b[0m 3ms/step - loss: 1.5267 - val_loss: 0.6680\n",
            "Epoch 3/10\n",
            "\u001b[1m16/16\u001b[0m \u001b[32m━━━━━━━━━━━━━━━━━━━━\u001b[0m\u001b[37m\u001b[0m \u001b[1m0s\u001b[0m 4ms/step - loss: 0.5960 - val_loss: 0.3340\n",
            "Epoch 4/10\n",
            "\u001b[1m16/16\u001b[0m \u001b[32m━━━━━━━━━━━━━━━━━━━━\u001b[0m\u001b[37m\u001b[0m \u001b[1m0s\u001b[0m 4ms/step - loss: 0.3174 - val_loss: 0.2184\n",
            "Epoch 5/10\n",
            "\u001b[1m16/16\u001b[0m \u001b[32m━━━━━━━━━━━━━━━━━━━━\u001b[0m\u001b[37m\u001b[0m \u001b[1m0s\u001b[0m 3ms/step - loss: 0.2204 - val_loss: 0.1695\n",
            "Epoch 6/10\n",
            "\u001b[1m16/16\u001b[0m \u001b[32m━━━━━━━━━━━━━━━━━━━━\u001b[0m\u001b[37m\u001b[0m \u001b[1m0s\u001b[0m 3ms/step - loss: 0.1700 - val_loss: 0.1482\n",
            "Epoch 7/10\n",
            "\u001b[1m16/16\u001b[0m \u001b[32m━━━━━━━━━━━━━━━━━━━━\u001b[0m\u001b[37m\u001b[0m \u001b[1m0s\u001b[0m 3ms/step - loss: 0.1510 - val_loss: 0.1374\n",
            "Epoch 8/10\n",
            "\u001b[1m16/16\u001b[0m \u001b[32m━━━━━━━━━━━━━━━━━━━━\u001b[0m\u001b[37m\u001b[0m \u001b[1m0s\u001b[0m 3ms/step - loss: 0.1386 - val_loss: 0.1321\n",
            "Epoch 9/10\n",
            "\u001b[1m16/16\u001b[0m \u001b[32m━━━━━━━━━━━━━━━━━━━━\u001b[0m\u001b[37m\u001b[0m \u001b[1m0s\u001b[0m 4ms/step - loss: 0.1296 - val_loss: 0.1272\n",
            "Epoch 10/10\n",
            "\u001b[1m16/16\u001b[0m \u001b[32m━━━━━━━━━━━━━━━━━━━━\u001b[0m\u001b[37m\u001b[0m \u001b[1m0s\u001b[0m 3ms/step - loss: 0.1229 - val_loss: 0.1240\n"
          ]
        }
      ],
      "source": [
        "y = np.random.rand(match_vectors.shape[0], 50)\n",
        "\n",
        "# Splitting the data\n",
        "X_train, X_val, y_train, y_val = train_test_split(match_vectors, y, test_size=0.2, random_state=42)\n",
        "\n",
        "history = model.fit(\n",
        "    X_train, y_train,\n",
        "    epochs=10,\n",
        "    batch_size=16,\n",
        "    validation_data=(X_val, y_val),\n",
        "    verbose=1\n",
        ")"
      ]
    },
    {
      "cell_type": "code",
      "execution_count": 46,
      "metadata": {
        "colab": {
          "base_uri": "https://localhost:8080/",
          "height": 472
        },
        "id": "14EvyWocXjha",
        "outputId": "d45ca9d9-a6d7-4e95-f19a-887bd126e8cc"
      },
      "outputs": [
        {
          "output_type": "display_data",
          "data": {
            "text/plain": [
              "<Figure size 640x480 with 1 Axes>"
            ],
            "image/png": "[encoded data removed]"
          },
          "metadata": {}
        }
      ],
      "source": [
        "# Plot training & validation loss values\n",
        "plt.subplot(1, 2, 2)\n",
        "plt.plot(history.history['loss'])\n",
        "plt.plot(history.history['val_loss'])\n",
        "plt.title('Model Loss')\n",
        "plt.ylabel('Mean Squared Error')\n",
        "plt.xlabel('Epoch')\n",
        "plt.legend(['Train', 'Test'], loc='upper left')\n",
        "\n",
        "plt.show()"
      ]
    },
    {
      "cell_type": "markdown",
      "metadata": {
        "id": "3Vfsk3_L_QHc"
      },
      "source": [
        "# **Pengujian**"
      ]
    },
    {
      "cell_type": "code",
      "execution_count": 47,
      "metadata": {
        "colab": {
          "base_uri": "https://localhost:8080/"
        },
        "id": "wdkA_B9S9GaF",
        "outputId": "87b22b25-c965-44b5-e415-faaccda3fa0a"
      },
      "outputs": [
        {
          "output_type": "stream",
          "name": "stdout",
          "text": [
            "Tanggal hari ini: 25-11-2024\n",
            "\n",
            "Rekomendasi Pertandingan untuk userId 1:\n",
            " ID Match           Home          Away   Tanggal   similarity_score\n",
            "      108         PERSIS Barito Putera 03-12-2024               1.0\n",
            "      111  Semen Padang        Persija 07-12-2024               1.0\n",
            "      124    Dewa United Barito Putera 12-12-2024               1.0\n",
            "      129    Bali United       Persija 15-12-2024               1.0\n",
            "      143  PSM Makassar  Barito Putera 22-12-2024               1.0\n",
            "      149  Malut United        Persija 28-12-2024               1.0\n",
            "      155 Barito putera        Persija 10-01-2025               1.0\n",
            "      166  Madura United Barito Putera 18-01-2025               1.0\n",
            "      178         PERSIS       Persija 26-01-2025               1.0\n",
            "      181        Persik  Barito Putera 31-01-2025               1.0\n"
          ]
        }
      ],
      "source": [
        "# Mendapatkan rekomendasi untuk userId tertentu\n",
        "user_id = 1\n",
        "top_recommendations = get_recommendations_by_teams(purchase_history, matches, user_id=user_id, N=10)\n",
        "\n",
        "# Output hasil\n",
        "if not top_recommendations.empty:\n",
        "    print(f\"\\nRekomendasi Pertandingan untuk userId {user_id}:\")\n",
        "    print(top_recommendations[['ID Match', 'Home', 'Away', 'Tanggal ', 'similarity_score']].to_string(index=False))\n",
        "else:\n",
        "    print(f\"Tidak ada rekomendasi yang relevan untuk userId {user_id}.\")\n"
      ]
    }
  ],
  "metadata": {
    "colab": {
      "provenance": [],
      "collapsed_sections": [
        "5fZXp7ktMIP6"
      ]
    },
    "kernelspec": {
      "display_name": "Python 3",
      "name": "python3"
    },
    "language_info": {
      "name": "python"
    }
  },
  "nbformat": 4,
  "nbformat_minor": 0
}