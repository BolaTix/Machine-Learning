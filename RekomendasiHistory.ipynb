{
  "cells": [
    {
      "cell_type": "code",
      "execution_count": 155,
      "metadata": {
        "id": "UMfqk5N84Gvt"
      },
      "outputs": [],
      "source": [
        "import pandas as pd\n",
        "import numpy as np\n",
        "import tensorflow as tf\n",
        "from tensorflow.keras.models import Model\n",
        "from tensorflow.keras.layers import Input, Embedding, Flatten, Dot, Dense, Concatenate\n",
        "from sklearn.model_selection import train_test_split, KFold, cross_val_score\n",
        "import requests\n",
        "from sklearn.preprocessing import LabelEncoder, StandardScaler\n",
        "from sklearn.metrics.pairwise import cosine_similarity\n",
        "from sklearn.metrics import mean_squared_error, mean_absolute_error, precision_score, recall_score, f1_score\n",
        "import matplotlib.pyplot as plt\n",
        "from datetime import datetime"
      ]
    },
    {
      "cell_type": "code",
      "execution_count": 156,
      "metadata": {
        "id": "187Yh2gB-xu8"
      },
      "outputs": [],
      "source": [
        "# Mengambil data historis pengguna dari API\n",
        "def fetch_purchase_history(api_url):\n",
        "    response = requests.get(api_url)\n",
        "    if response.status_code == 200:\n",
        "        data = response.json()\n",
        "        return pd.DataFrame(data)\n",
        "    else:\n",
        "        raise Exception(\"Failed to fetch purchase history\")"
      ]
    },
    {
      "cell_type": "code",
      "execution_count": 157,
      "metadata": {
        "id": "MagxfejvLd12"
      },
      "outputs": [],
      "source": [
        "# Memuat data pertandingan dari CSV\n",
        "def load_match_data(csv_path):\n",
        "    return pd.read_csv(csv_path)\n",
        "\n",
        "# URL API dan path CSV\n",
        "api_url = \"https://raw.githubusercontent.com/alvinfebrianto/BolaTix-API/refs/heads/main/bolatix.json\"\n",
        "csv_path = \"/content/DATASET - data liga 1.csv\""
      ]
    },
    {
      "cell_type": "code",
      "execution_count": 158,
      "metadata": {
        "colab": {
          "base_uri": "https://localhost:8080/"
        },
        "id": "wUdQ7ZvGLfYB",
        "outputId": "6b9e41b8-584a-4ab7-df9b-5fa58935053b"
      },
      "outputs": [
        {
          "output_type": "stream",
          "name": "stdout",
          "text": [
            "Data Historis Pengguna:\n",
            "   userId userName favoriteTeam idMatch                          match  \\\n",
            "0       5    Rizky       Persib                                          \n",
            "1       4     Kiki  Bali United       1            Persib vs PSBS Biak   \n",
            "2       3   Jeffry    Persebaya       2  Madura United vs Malut United   \n",
            "3       2     Aryo     Arema FC       3         PSM Makassar vs PERSIS   \n",
            "4       1  Aransha      Persija       4       Persija vs Barito Putera   \n",
            "\n",
            "        date   time                        stadium  \n",
            "0                                                   \n",
            "1   9/8/2024  20:00       Stadion Si Jalak Harupat  \n",
            "2  10/8/2024  16:30      Stadion Gelora Bangkalan   \n",
            "3  10/8/2024  16:30                Stadion Batakan  \n",
            "4  10/8/2024  20:00  Jakarta International Stadium  \n",
            "\n",
            "Data Pertandingan:\n",
            "          Klub  ID Match             Home           Away  \\\n",
            "0    Borneo Fc         1          Persib       PSBS Biak   \n",
            "1    Persebaya         2  Madura United     Malut United   \n",
            "2       PERSIB         3    PSM Makassar          PERSIS   \n",
            "3  Bali United         4         Persija   Barito Putera   \n",
            "4      Persija         5            PSIS         Persita   \n",
            "\n",
            "                            Match  Score tim home  Score tim away  \\\n",
            "0             Persib vs PSBS Biak             4.0             1.0   \n",
            "1  Madura United  vs Malut United             1.0             1.0   \n",
            "2          PSM Makassar vs PERSIS             3.0             0.0   \n",
            "3        Persija vs Barito Putera             3.0             0.0   \n",
            "4                 PSIS vs Persita             0.0             1.0   \n",
            "\n",
            "   Jumlah Tiket Terjual                        Stadion      Lokasi     Hari  \\\n",
            "0                 10949       Stadion Si Jalak Harupat     Bandung  Weekday   \n",
            "1                   672      Stadion Gelora Bangkalan       Madura  Weekend   \n",
            "2                  2408                Stadion Batakan  Balikpapan  Weekend   \n",
            "3                  8672  Jakarta International Stadium     Jakarta  Weekend   \n",
            "4                  1706         Stadion Madya Magelang    Magelang  Weekend   \n",
            "\n",
            "   Waktu   Tanggal        Jam  \n",
            "0  Malam   9/8/2024  20:00:00  \n",
            "1   Sore  10/8/2024  16:30:00  \n",
            "2   Sore  10/8/2024  16:30:00  \n",
            "3  Malam  10/8/2024  20:00:00  \n",
            "4   Sore  11/8/2024  16:30:00  \n"
          ]
        }
      ],
      "source": [
        "# Mengambil data\n",
        "purchase_history = fetch_purchase_history(api_url)\n",
        "matches = load_match_data(csv_path)\n",
        "\n",
        "print(\"Data Historis Pengguna:\")\n",
        "print(purchase_history.head())\n",
        "\n",
        "print(\"\\nData Pertandingan:\")\n",
        "print(matches.head())"
      ]
    },
    {
      "cell_type": "markdown",
      "metadata": {
        "id": "5fZXp7ktMIP6"
      },
      "source": [
        "# **Preprocessing**"
      ]
    },
    {
      "cell_type": "markdown",
      "source": [
        "konversi tipe data **idMatch** menjadi **int**. Mengubah kolom idMatch di purchase_history menjadi tipe data integer. Jika ada nilai yang tidak bisa dikonversi (misalnya string), diubah menjadi NaN lalu diisi dengan 0. Agar tipe data konsisten dengan matches['ID Match'] untuk penggabungan data.\n"
      ],
      "metadata": {
        "id": "igHn8UdKPkn7"
      }
    },
    {
      "cell_type": "code",
      "execution_count": 159,
      "metadata": {
        "colab": {
          "base_uri": "https://localhost:8080/"
        },
        "id": "vIcTJIUqD3i3",
        "outputId": "7a634e6c-4c71-4c74-c0f1-d954a08cd77b"
      },
      "outputs": [
        {
          "output_type": "stream",
          "name": "stdout",
          "text": [
            "Tipe data idMatch di purchase_history setelah konversi: int64\n"
          ]
        }
      ],
      "source": [
        "# Konversi tipe data idMatch menjadi int, menangani nilai kosong\n",
        "purchase_history['idMatch'] = pd.to_numeric(purchase_history['idMatch'], errors='coerce').fillna(0).astype(int)\n",
        "\n",
        "# Verifikasi setelah konversi\n",
        "print(\"Tipe data idMatch di purchase_history setelah konversi:\", purchase_history['idMatch'].dtype)"
      ]
    },
    {
      "cell_type": "code",
      "execution_count": 160,
      "metadata": {
        "colab": {
          "base_uri": "https://localhost:8080/"
        },
        "id": "1zvt6wid4Wbr",
        "outputId": "dd5429d2-0f9c-4005-c046-aa3fdd439154"
      },
      "outputs": [
        {
          "output_type": "stream",
          "name": "stdout",
          "text": [
            "Tipe data idMatch di purchase_history: int64\n",
            "Tipe data ID Match di matches: int64\n"
          ]
        }
      ],
      "source": [
        "print(\"Tipe data idMatch di purchase_history:\", purchase_history['idMatch'].dtype)\n",
        "print(\"Tipe data ID Match di matches:\", matches['ID Match'].dtype)"
      ]
    },
    {
      "cell_type": "code",
      "execution_count": 161,
      "metadata": {
        "colab": {
          "base_uri": "https://localhost:8080/"
        },
        "id": "DWjYaJXn4g5b",
        "outputId": "b18983c4-8993-4f71-b8a2-e2777ec0d460"
      },
      "outputs": [
        {
          "output_type": "stream",
          "name": "stdout",
          "text": [
            "Pertandingan yang cocok di matches setelah konversi tipe data:\n",
            "   ID Match             Home           Away   Tanggal \n",
            "0         1          Persib       PSBS Biak   9/8/2024\n",
            "1         2  Madura United     Malut United  10/8/2024\n",
            "2         3    PSM Makassar          PERSIS  10/8/2024\n",
            "3         4         Persija   Barito Putera  10/8/2024\n"
          ]
        }
      ],
      "source": [
        "user_match_ids = purchase_history['idMatch'].unique()\n",
        "user_matches = matches[matches['ID Match'].isin(user_match_ids)]\n",
        "\n",
        "print(\"Pertandingan yang cocok di matches setelah konversi tipe data:\")\n",
        "print(user_matches[['ID Match', 'Home', 'Away', 'Tanggal ']])"
      ]
    },
    {
      "cell_type": "code",
      "execution_count": 162,
      "metadata": {
        "id": "vhGtuakYoCTw"
      },
      "outputs": [],
      "source": [
        "# Memastikan konsistensi tipe data pp\n",
        "# Ubah idMatch di purchase_history menjadi integer\n",
        "purchase_history['idMatch'] = purchase_history['idMatch'].astype(int)\n",
        "\n",
        "# Ubah ID Match di matches menjadi integer (jika belum)\n",
        "matches['ID Match'] = matches['ID Match'].astype(int)"
      ]
    },
    {
      "cell_type": "markdown",
      "source": [
        "menggabungkan data purchase_history dengan matches berdasarkan idMatch.\n",
        "\n",
        "Mengisi nilai kosong:\n",
        "1. Kolom tanggal diisi dengan NaT\n",
        "2. Kolom lain diisi dengan 0\n",
        "\n"
      ],
      "metadata": {
        "id": "p4NYvs-zSUp2"
      }
    },
    {
      "cell_type": "code",
      "execution_count": 163,
      "metadata": {
        "id": "XPGOg6BZ-_E2"
      },
      "outputs": [],
      "source": [
        "# Gabungkan data berdasarkan ID Match\n",
        "def preprocess_data(purchase_history, matches):\n",
        "    # Gabungkan data berdasarkan ID Match\n",
        "    merged_data = purchase_history.merge(matches, left_on='idMatch', right_on='ID Match', how='left')\n",
        "\n",
        "    # Mengisi nilai kosong pada kolom yang tidak cocok dengan NaT untuk tanggal dan 0 untuk yang lain\n",
        "    merged_data['Tanggal '] = merged_data['Tanggal '].fillna(pd.NaT)\n",
        "    merged_data.fillna(0, inplace=True)\n",
        "\n",
        "    return merged_data"
      ]
    },
    {
      "cell_type": "code",
      "execution_count": 164,
      "metadata": {
        "colab": {
          "base_uri": "https://localhost:8080/"
        },
        "id": "ynw0b-d4o8sc",
        "outputId": "c0123304-ff3f-47d7-bdd8-c4e6219f4c56"
      },
      "outputs": [
        {
          "output_type": "stream",
          "name": "stdout",
          "text": [
            "\n",
            "Data Setelah Penggabungan:\n",
            "   userId userName favoriteTeam  idMatch                          match  \\\n",
            "0       5    Rizky       Persib        0                                  \n",
            "1       4     Kiki  Bali United        1            Persib vs PSBS Biak   \n",
            "2       3   Jeffry    Persebaya        2  Madura United vs Malut United   \n",
            "3       2     Aryo     Arema FC        3         PSM Makassar vs PERSIS   \n",
            "4       1  Aransha      Persija        4       Persija vs Barito Putera   \n",
            "\n",
            "        date   time                        stadium         Klub  ID Match  \\\n",
            "0                                                             0       0.0   \n",
            "1   9/8/2024  20:00       Stadion Si Jalak Harupat    Borneo Fc       1.0   \n",
            "2  10/8/2024  16:30      Stadion Gelora Bangkalan     Persebaya       2.0   \n",
            "3  10/8/2024  16:30                Stadion Batakan       PERSIB       3.0   \n",
            "4  10/8/2024  20:00  Jakarta International Stadium  Bali United       4.0   \n",
            "\n",
            "   ...                           Match Score tim home Score tim away  \\\n",
            "0  ...                               0            0.0            0.0   \n",
            "1  ...             Persib vs PSBS Biak            4.0            1.0   \n",
            "2  ...  Madura United  vs Malut United            1.0            1.0   \n",
            "3  ...          PSM Makassar vs PERSIS            3.0            0.0   \n",
            "4  ...        Persija vs Barito Putera            3.0            0.0   \n",
            "\n",
            "   Jumlah Tiket Terjual                        Stadion      Lokasi     Hari  \\\n",
            "0                   0.0                              0           0        0   \n",
            "1               10949.0       Stadion Si Jalak Harupat     Bandung  Weekday   \n",
            "2                 672.0      Stadion Gelora Bangkalan       Madura  Weekend   \n",
            "3                2408.0                Stadion Batakan  Balikpapan  Weekend   \n",
            "4                8672.0  Jakarta International Stadium     Jakarta  Weekend   \n",
            "\n",
            "   Waktu   Tanggal        Jam  \n",
            "0      0          0         0  \n",
            "1  Malam   9/8/2024  20:00:00  \n",
            "2   Sore  10/8/2024  16:30:00  \n",
            "3   Sore  10/8/2024  16:30:00  \n",
            "4  Malam  10/8/2024  20:00:00  \n",
            "\n",
            "[5 rows x 22 columns]\n"
          ]
        }
      ],
      "source": [
        "# Mengolah data\n",
        "processed_data = preprocess_data(purchase_history, matches)\n",
        "\n",
        "# Menampilkan hasil setelah penggabungan\n",
        "print(\"\\nData Setelah Penggabungan:\")\n",
        "print(processed_data.head())"
      ]
    },
    {
      "cell_type": "code",
      "execution_count": 165,
      "metadata": {
        "colab": {
          "base_uri": "https://localhost:8080/"
        },
        "id": "VX8ScnVf2Bgl",
        "outputId": "cc7cd2eb-de95-4aa8-9710-7a0a5b3861fb"
      },
      "outputs": [
        {
          "output_type": "stream",
          "name": "stdout",
          "text": [
            "ID Match di purchase_history: [0 1 2 3 4]\n",
            "ID Match di matches: [  1   2   3   4   5   6   7   8   9  10  11  12  13  14  15  16  17  18\n",
            "  19  20  21  22  23  24  25  26  27  28  29  30  31  32  33  34  35  36\n",
            "  37  38  39  40  41  42  43  44  45  46  47  48  49  50  51  52  53  54\n",
            "  55  56  57  58  59  60  61  62  63  64  65  66  67  68  69  70  71  72\n",
            "  73  74  75  76  77  78  79  80  81  82  83  84  85  86  87  88  89  90\n",
            "  91  92  93  94  95  96  97  98  99 100 101 102 103 104 105 106 107 108\n",
            " 109 110 111 112 113 114 115 116 117 118 119 120 121 122 123 124 125 126\n",
            " 127 128 129 130 131 132 133 134 135 136 137 138 139 140 141 142 143 144\n",
            " 145 146 147 148 149 150 151 152 153 154 155 156 157 158 159 160 161 162\n",
            " 163 164 165 166 167 168 169 170 171 172 173 174 175 176 177 178 179 180\n",
            " 181 182 183 184 185 186 187 188 189 190 191 192 193 194 195 196 197 198\n",
            " 199 200 201 202 203 204 205 206 207 208 209 210 211 212 213 214 215 216\n",
            " 217 218 219 220 221 222 223 224 225 226 227 228 229 230 231 232 233 234\n",
            " 235 236 237 238 239 240 241 242 243 244 245 246 247 248 249 250 251 252\n",
            " 253 254 255 256 257 258 259 260 261 262 263 264 265 266 267 268 269 270\n",
            " 271 272 273 274 275 276 277 278 279 280 281 282 283 284 285 286 287 288\n",
            " 289 290 291 292 293 294 295 296 297 298 299 300 301 302 303 304 305 306]\n"
          ]
        }
      ],
      "source": [
        "print(\"ID Match di purchase_history:\", purchase_history['idMatch'].unique())\n",
        "print(\"ID Match di matches:\", matches['ID Match'].unique())"
      ]
    },
    {
      "cell_type": "markdown",
      "metadata": {
        "id": "1o20PHppMPA7"
      },
      "source": [
        "# **Model Rekomendasi**"
      ]
    },
    {
      "cell_type": "code",
      "execution_count": 166,
      "metadata": {
        "id": "C_X2YwPZ_dBA"
      },
      "outputs": [],
      "source": [
        "def feature_engineering(matches, match_date):\n",
        "    # Encode nama tim\n",
        "    le = LabelEncoder()\n",
        "    matches['home_team_encoded'] = le.fit_transform(matches['Home'])\n",
        "    matches['away_team_encoded'] = le.fit_transform(matches['Away'])\n",
        "\n",
        "    # Konversi kolom Tanggal ke datetime\n",
        "    matches['Tanggal '] = pd.to_datetime(matches['Tanggal '], format='%d/%m/%Y', errors='coerce')\n",
        "\n",
        "    # Isi nilai kosong pada Tanggal dengan nilai minimum\n",
        "    matches['Tanggal '] = matches['Tanggal '].fillna(pd.Timestamp.min)\n",
        "\n",
        "    # Fitur tambahan: match_day\n",
        "    matches['match_day'] = matches['Tanggal '].dt.dayofyear\n",
        "\n",
        "    # Standarisasi fitur numerik\n",
        "    scaler = StandardScaler()\n",
        "    matches[['match_day']] = scaler.fit_transform(matches[['match_day']])\n",
        "\n",
        "    # Komentari atau hapus filter ini untuk sementara\n",
        "    # matches = matches[matches['Tanggal '] > match_date].sort_values(by='Tanggal ')\n",
        "\n",
        "    return matches, le, scaler"
      ]
    },
    {
      "cell_type": "code",
      "execution_count": 167,
      "metadata": {
        "id": "Z5aGvbeODRax"
      },
      "outputs": [],
      "source": [
        "# Membuat representasi fitur pertandingan\n",
        "def create_match_vectors(matches):\n",
        "    feature_columns = ['home_team_encoded', 'away_team_encoded', 'match_day']\n",
        "    match_vectors = matches[feature_columns].values\n",
        "    return match_vectors"
      ]
    },
    {
      "cell_type": "code",
      "execution_count": 168,
      "metadata": {
        "id": "DDC-wS92MmfW"
      },
      "outputs": [],
      "source": [
        "def create_user_vector(purchase_history, matches):\n",
        "    # Ambil tim-tim yang relevan dari purchase_history\n",
        "    teams = set()\n",
        "    for match in purchase_history['match']:\n",
        "        try:\n",
        "            home, away = match.split(\" vs \")\n",
        "            teams.add(home.strip())\n",
        "            teams.add(away.strip())\n",
        "        except ValueError:\n",
        "            print(f\"Skipping invalid match format: {match}\")\n",
        "            continue\n",
        "\n",
        "    # Filter pertandingan berdasarkan tim relevan\n",
        "    team_matches = matches[matches['Home'].isin(teams) | matches['Away'].isin(teams)]\n",
        "    if team_matches.empty:\n",
        "        print(\"Tidak ada tim relevan yang cocok untuk membuat vektor pengguna.\")\n",
        "        return np.zeros(matches.shape[1])  # Kembalikan vektor nol jika tidak ada data\n",
        "\n",
        "    # Buat vektor dari pertandingan yang melibatkan tim relevan\n",
        "    user_vector = create_match_vectors(team_matches)\n",
        "    return np.nan_to_num(np.mean(user_vector, axis=0))\n"
      ]
    },
    {
      "cell_type": "code",
      "execution_count": 169,
      "metadata": {
        "id": "w70gfd4bVRSw",
        "colab": {
          "base_uri": "https://localhost:8080/"
        },
        "outputId": "e90407a3-d843-4b00-b962-2145e8f46318"
      },
      "outputs": [
        {
          "output_type": "stream",
          "name": "stdout",
          "text": [
            "Skipping invalid match format: \n"
          ]
        }
      ],
      "source": [
        "# Preparing the data\n",
        "matches, le, scaler = feature_engineering(matches, pd.to_datetime('today'))\n",
        "match_vectors = create_match_vectors(matches)\n",
        "user_vector = create_user_vector(purchase_history, matches)"
      ]
    },
    {
      "cell_type": "code",
      "execution_count": 170,
      "metadata": {
        "id": "eB_gN2OaMs25"
      },
      "outputs": [],
      "source": [
        "# Membuat model sederhana menggunakan Dense Layers\n",
        "def build_model(input_dim, embedding_dim=50):\n",
        "    model = tf.keras.Sequential([\n",
        "        tf.keras.layers.Input(shape=(input_dim,)),  # Input layer\n",
        "        tf.keras.layers.Dense(embedding_dim, activation='relu'),\n",
        "        tf.keras.layers.Dense(embedding_dim, activation='relu'),\n",
        "        tf.keras.layers.Dense(embedding_dim, activation=None)  # Output layer tanpa aktivasi\n",
        "    ])\n",
        "    model.compile(optimizer='adam', loss='mse')\n",
        "    return model\n",
        "\n",
        "input_dim = match_vectors.shape[1]\n",
        "model = build_model(input_dim)\n",
        "\n",
        "# Melatih model untuk mendapatkan representasi vektor\n",
        "# Karena data terbatas, kita bisa melatih autoencoder atau model serupa\n",
        "# Untuk kesederhanaan, kita asumsikan match_vectors sudah representatif"
      ]
    },
    {
      "cell_type": "code",
      "execution_count": 171,
      "metadata": {
        "id": "cSW3mFYC7oZq"
      },
      "outputs": [],
      "source": [
        "# Filter pertandingan berdasarkan purchase history\n",
        "def filter_matches_by_purchase_history(purchase_history, matches):\n",
        "    user_match_ids = purchase_history['idMatch'].unique()\n",
        "    return matches[matches['ID Match'].isin(user_match_ids)]"
      ]
    },
    {
      "cell_type": "code",
      "execution_count": 172,
      "metadata": {
        "id": "TucIf8cEDqO4"
      },
      "outputs": [],
      "source": [
        "def get_recommendations_by_teams(purchase_history, matches, user_id, N=10):\n",
        "    today_date = datetime.now()\n",
        "    print(f\"Tanggal hari ini: {today_date.strftime('%d-%m-%Y')}\")\n",
        "\n",
        "    # Filter user purchase history\n",
        "    user_purchase_history = purchase_history[purchase_history['userId'] == user_id]\n",
        "    if user_purchase_history.empty:\n",
        "        print(f\"Tidak ada data pembelian untuk userId {user_id}.\")\n",
        "        return pd.DataFrame()\n",
        "\n",
        "    # Extract relevant teams from user purchase history\n",
        "    teams = set()\n",
        "    for match in user_purchase_history['match']:\n",
        "        try:\n",
        "            home, away = match.split(\" vs \")\n",
        "            teams.add(home.strip())\n",
        "            teams.add(away.strip())\n",
        "        except ValueError:\n",
        "            continue\n",
        "\n",
        "    # Filter matches involving relevant teams and happening after today\n",
        "    matches['Tanggal '] = pd.to_datetime(matches['Tanggal '], format='%d/%m/%Y', errors='coerce')\n",
        "    relevant_matches = matches[\n",
        "        (matches['Home'].isin(teams) | matches['Away'].isin(teams)) &\n",
        "        (matches['Tanggal '] > today_date)\n",
        "    ].copy()\n",
        "\n",
        "    # Tambahkan pertandingan mendatang lainnya jika kurang dari N\n",
        "    if relevant_matches.shape[0] < N:\n",
        "        additional_matches = matches[matches['Tanggal '] > today_date].copy()\n",
        "        additional_matches = additional_matches[~additional_matches['ID Match'].isin(relevant_matches['ID Match'])]\n",
        "        relevant_matches = pd.concat([relevant_matches, additional_matches]).head(N)\n",
        "\n",
        "    if relevant_matches.empty:\n",
        "        print(\"Tidak ada pertandingan yang relevan ditemukan setelah tanggal hari ini.\")\n",
        "        return pd.DataFrame()\n",
        "\n",
        "    # Format tanggal menjadi 'dd-mm-yyyy'\n",
        "    relevant_matches['Tanggal '] = relevant_matches['Tanggal '].dt.strftime('%d-%m-%Y')\n",
        "\n",
        "    # Adding a placeholder similarity score for demonstration\n",
        "    relevant_matches['similarity_score'] = 1.0  # In practice, use real similarity calculation\n",
        "    return relevant_matches.sort_values(by='similarity_score', ascending=False).head(N)"
      ]
    },
    {
      "cell_type": "markdown",
      "source": [
        "# **Training**"
      ],
      "metadata": {
        "id": "UKYVKpEfwpxn"
      }
    },
    {
      "cell_type": "code",
      "source": [
        "def cross_validation_training(model, match_vectors, y, n_splits=5):\n",
        "    \"\"\"\n",
        "    Validasi silang untuk model recommendation\n",
        "    \"\"\"\n",
        "    from sklearn.model_selection import KFold\n",
        "\n",
        "    # Pastikan y memiliki dimensi yang konsisten\n",
        "    if y.ndim == 1:\n",
        "        y = y.reshape(-1, 1)\n",
        "\n",
        "    # Pastikan y memiliki jumlah baris yang sama dengan match_vectors\n",
        "    if y.shape[0] != match_vectors.shape[0]:\n",
        "        # Buat y dengan dimensi yang sesuai\n",
        "        y = np.random.rand(match_vectors.shape[0], y.shape[1] if y.ndim > 1 else 1)\n",
        "\n",
        "    kf = KFold(n_splits=n_splits, shuffle=True, random_state=42)\n",
        "    cv_scores = []\n",
        "\n",
        "    for train_index, val_index in kf.split(match_vectors):\n",
        "        X_train, X_val = match_vectors[train_index], match_vectors[val_index]\n",
        "        y_train, y_val = y[train_index], y[val_index]\n",
        "\n",
        "        # Recreate model for each fold to ensure clean slate\n",
        "        fold_model = build_model(match_vectors.shape[1])\n",
        "\n",
        "        # Latih model pada fold saat ini\n",
        "        history = fold_model.fit(\n",
        "            X_train, y_train,\n",
        "            epochs=10,\n",
        "            batch_size=16,\n",
        "            validation_data=(X_val, y_val),\n",
        "            verbose=0\n",
        "        )\n",
        "\n",
        "        # Evaluasi model\n",
        "        val_loss = history.history['val_loss'][-1]\n",
        "        cv_scores.append(val_loss)\n",
        "\n",
        "    print(\"\\nCross-Validation Results:\")\n",
        "    print(f\"Average Validation Loss: {np.mean(cv_scores):.4f}\")\n",
        "    print(f\"Standard Deviation: {np.std(cv_scores):.4f}\")\n",
        "\n",
        "    return cv_scores\n",
        "\n",
        "cross_validation_scores = cross_validation_training(model, match_vectors, y)"
      ],
      "metadata": {
        "colab": {
          "base_uri": "https://localhost:8080/"
        },
        "id": "_GLMArF35ULW",
        "outputId": "61d8e694-b341-4478-9586-cb4f5ff31220"
      },
      "execution_count": 173,
      "outputs": [
        {
          "output_type": "stream",
          "name": "stdout",
          "text": [
            "\n",
            "Cross-Validation Results:\n",
            "Average Validation Loss: 0.1191\n",
            "Standard Deviation: 0.0030\n"
          ]
        }
      ]
    },
    {
      "cell_type": "code",
      "source": [
        "# Tambahan evaluasi model\n",
        "def model_performance_evaluation(model, match_vectors, y_true):\n",
        "    \"\"\"\n",
        "    Evaluasi performa model dengan metrik tambahan\n",
        "    \"\"\"\n",
        "    # Prediksi\n",
        "    y_pred = model.predict(match_vectors)\n",
        "\n",
        "    # Hitung Mean Squared Error\n",
        "    mse = np.mean((y_true - y_pred) ** 2)\n",
        "\n",
        "    # Hitung Mean Absolute Error\n",
        "    mae = np.mean(np.abs(y_true - y_pred))\n",
        "\n",
        "    print(\"\\nEvaluasi Model:\")\n",
        "    print(f\"Mean Squared Error: {mse:.4f}\")\n",
        "    print(f\"Mean Absolute Error: {mae:.4f}\")\n",
        "\n",
        "    return {\n",
        "        'mse': mse,\n",
        "        'mae': mae\n",
        "    }\n",
        "\n",
        "# Assuming 'y' is your target variable, adjust as needed\n",
        "y = np.random.rand(match_vectors.shape[0], 50)  # Replace with your actual target variable\n",
        "\n",
        "# Splitting the data\n",
        "X_train, X_val, y_train, y_val = train_test_split(match_vectors, y, test_size=0.2, random_state=42)\n",
        "\n",
        "try:\n",
        "    # Validasi silang\n",
        "    cross_validation_scores = cross_validation_training(model, match_vectors, y)\n",
        "\n",
        "    # Evaluasi performa model\n",
        "    performance_metrics = model_performance_evaluation(model, match_vectors, y)\n",
        "except Exception as e:\n",
        "    print(\"Terjadi kesalahan dalam evaluasi:\", str(e))\n",
        "\n",
        "# Evaluasi model using X_val and y_val\n",
        "model_performance = model_performance_evaluation(model, X_val, y_val)"
      ],
      "metadata": {
        "colab": {
          "base_uri": "https://localhost:8080/"
        },
        "id": "MPIl8x3G4wIL",
        "outputId": "d0e7285c-f839-459e-9fb3-f89f03bbfea2"
      },
      "execution_count": 174,
      "outputs": [
        {
          "output_type": "stream",
          "name": "stdout",
          "text": [
            "\n",
            "Cross-Validation Results:\n",
            "Average Validation Loss: 0.1226\n",
            "Standard Deviation: 0.0055\n",
            "\u001b[1m10/10\u001b[0m \u001b[32m━━━━━━━━━━━━━━━━━━━━\u001b[0m\u001b[37m\u001b[0m \u001b[1m0s\u001b[0m 8ms/step\n",
            "\n",
            "Evaluasi Model:\n",
            "Mean Squared Error: 4.5073\n",
            "Mean Absolute Error: 1.6780\n",
            "\u001b[1m2/2\u001b[0m \u001b[32m━━━━━━━━━━━━━━━━━━━━\u001b[0m\u001b[37m\u001b[0m \u001b[1m0s\u001b[0m 4ms/step \n",
            "\n",
            "Evaluasi Model:\n",
            "Mean Squared Error: 4.3175\n",
            "Mean Absolute Error: 1.6484\n"
          ]
        }
      ]
    },
    {
      "cell_type": "code",
      "source": [
        "# Fungsi untuk learning curve\n",
        "def plot_learning_curve(history):\n",
        "    \"\"\"\n",
        "    Plot kurva pembelajaran model\n",
        "    \"\"\"\n",
        "    plt.figure(figsize=(12,4))\n",
        "\n",
        "    # Plot loss\n",
        "    plt.subplot(1, 2, 1)\n",
        "    plt.plot(history.history['loss'], label='Training Loss')\n",
        "    plt.plot(history.history['val_loss'], label='Validation Loss')\n",
        "    plt.title('Model Loss')\n",
        "    plt.xlabel('Epoch')\n",
        "    plt.ylabel('Loss')\n",
        "    plt.legend()\n",
        "\n",
        "    # Plot learning rate (jika tersedia)\n",
        "    if 'lr' in history.history:\n",
        "        plt.subplot(1, 2, 2)\n",
        "        plt.plot(history.history['lr'])\n",
        "        plt.title('Learning Rate')\n",
        "        plt.xlabel('Epoch')\n",
        "        plt.ylabel('Learning Rate')\n",
        "\n",
        "    plt.tight_layout()\n",
        "    plt.show()\n",
        "\n",
        "history = model.fit(\n",
        "    X_train, y_train,\n",
        "    epochs=100,\n",
        "    batch_size=16,\n",
        "    validation_data=(X_val, y_val),\n",
        "    verbose=1\n",
        ")\n",
        "\n",
        "# Plot learning curve\n",
        "plot_learning_curve(history)"
      ],
      "metadata": {
        "colab": {
          "base_uri": "https://localhost:8080/",
          "height": 1000
        },
        "id": "_8_hsVnz5TNJ",
        "outputId": "2b0f2ab9-a3af-4ce6-cecf-8758dda87953"
      },
      "execution_count": 175,
      "outputs": [
        {
          "output_type": "stream",
          "name": "stdout",
          "text": [
            "Epoch 1/100\n",
            "\u001b[1m16/16\u001b[0m \u001b[32m━━━━━━━━━━━━━━━━━━━━\u001b[0m\u001b[37m\u001b[0m \u001b[1m1s\u001b[0m 11ms/step - loss: 3.2054 - val_loss: 0.8781\n",
            "Epoch 2/100\n",
            "\u001b[1m16/16\u001b[0m \u001b[32m━━━━━━━━━━━━━━━━━━━━\u001b[0m\u001b[37m\u001b[0m \u001b[1m0s\u001b[0m 3ms/step - loss: 0.7425 - val_loss: 0.3353\n",
            "Epoch 3/100\n",
            "\u001b[1m16/16\u001b[0m \u001b[32m━━━━━━━━━━━━━━━━━━━━\u001b[0m\u001b[37m\u001b[0m \u001b[1m0s\u001b[0m 4ms/step - loss: 0.3106 - val_loss: 0.2072\n",
            "Epoch 4/100\n",
            "\u001b[1m16/16\u001b[0m \u001b[32m━━━━━━━━━━━━━━━━━━━━\u001b[0m\u001b[37m\u001b[0m \u001b[1m0s\u001b[0m 4ms/step - loss: 0.2032 - val_loss: 0.1640\n",
            "Epoch 5/100\n",
            "\u001b[1m16/16\u001b[0m \u001b[32m━━━━━━━━━━━━━━━━━━━━\u001b[0m\u001b[37m\u001b[0m \u001b[1m0s\u001b[0m 3ms/step - loss: 0.1604 - val_loss: 0.1444\n",
            "Epoch 6/100\n",
            "\u001b[1m16/16\u001b[0m \u001b[32m━━━━━━━━━━━━━━━━━━━━\u001b[0m\u001b[37m\u001b[0m \u001b[1m0s\u001b[0m 3ms/step - loss: 0.1396 - val_loss: 0.1334\n",
            "Epoch 7/100\n",
            "\u001b[1m16/16\u001b[0m \u001b[32m━━━━━━━━━━━━━━━━━━━━\u001b[0m\u001b[37m\u001b[0m \u001b[1m0s\u001b[0m 3ms/step - loss: 0.1280 - val_loss: 0.1271\n",
            "Epoch 8/100\n",
            "\u001b[1m16/16\u001b[0m \u001b[32m━━━━━━━━━━━━━━━━━━━━\u001b[0m\u001b[37m\u001b[0m \u001b[1m0s\u001b[0m 3ms/step - loss: 0.1229 - val_loss: 0.1228\n",
            "Epoch 9/100\n",
            "\u001b[1m16/16\u001b[0m \u001b[32m━━━━━━━━━━━━━━━━━━━━\u001b[0m\u001b[37m\u001b[0m \u001b[1m0s\u001b[0m 4ms/step - loss: 0.1164 - val_loss: 0.1193\n",
            "Epoch 10/100\n",
            "\u001b[1m16/16\u001b[0m \u001b[32m━━━━━━━━━━━━━━━━━━━━\u001b[0m\u001b[37m\u001b[0m \u001b[1m0s\u001b[0m 4ms/step - loss: 0.1166 - val_loss: 0.1172\n",
            "Epoch 11/100\n",
            "\u001b[1m16/16\u001b[0m \u001b[32m━━━━━━━━━━━━━━━━━━━━\u001b[0m\u001b[37m\u001b[0m \u001b[1m0s\u001b[0m 3ms/step - loss: 0.1143 - val_loss: 0.1144\n",
            "Epoch 12/100\n",
            "\u001b[1m16/16\u001b[0m \u001b[32m━━━━━━━━━━━━━━━━━━━━\u001b[0m\u001b[37m\u001b[0m \u001b[1m0s\u001b[0m 3ms/step - loss: 0.1115 - val_loss: 0.1137\n",
            "Epoch 13/100\n",
            "\u001b[1m16/16\u001b[0m \u001b[32m━━━━━━━━━━━━━━━━━━━━\u001b[0m\u001b[37m\u001b[0m \u001b[1m0s\u001b[0m 3ms/step - loss: 0.1052 - val_loss: 0.1124\n",
            "Epoch 14/100\n",
            "\u001b[1m16/16\u001b[0m \u001b[32m━━━━━━━━━━━━━━━━━━━━\u001b[0m\u001b[37m\u001b[0m \u001b[1m0s\u001b[0m 3ms/step - loss: 0.1066 - val_loss: 0.1106\n",
            "Epoch 15/100\n",
            "\u001b[1m16/16\u001b[0m \u001b[32m━━━━━━━━━━━━━━━━━━━━\u001b[0m\u001b[37m\u001b[0m \u001b[1m0s\u001b[0m 3ms/step - loss: 0.1053 - val_loss: 0.1093\n",
            "Epoch 16/100\n",
            "\u001b[1m16/16\u001b[0m \u001b[32m━━━━━━━━━━━━━━━━━━━━\u001b[0m\u001b[37m\u001b[0m \u001b[1m0s\u001b[0m 4ms/step - loss: 0.1055 - val_loss: 0.1080\n",
            "Epoch 17/100\n",
            "\u001b[1m16/16\u001b[0m \u001b[32m━━━━━━━━━━━━━━━━━━━━\u001b[0m\u001b[37m\u001b[0m \u001b[1m0s\u001b[0m 3ms/step - loss: 0.1052 - val_loss: 0.1072\n",
            "Epoch 18/100\n",
            "\u001b[1m16/16\u001b[0m \u001b[32m━━━━━━━━━━━━━━━━━━━━\u001b[0m\u001b[37m\u001b[0m \u001b[1m0s\u001b[0m 4ms/step - loss: 0.1014 - val_loss: 0.1064\n",
            "Epoch 19/100\n",
            "\u001b[1m16/16\u001b[0m \u001b[32m━━━━━━━━━━━━━━━━━━━━\u001b[0m\u001b[37m\u001b[0m \u001b[1m0s\u001b[0m 3ms/step - loss: 0.1004 - val_loss: 0.1053\n",
            "Epoch 20/100\n",
            "\u001b[1m16/16\u001b[0m \u001b[32m━━━━━━━━━━━━━━━━━━━━\u001b[0m\u001b[37m\u001b[0m \u001b[1m0s\u001b[0m 3ms/step - loss: 0.1028 - val_loss: 0.1047\n",
            "Epoch 21/100\n",
            "\u001b[1m16/16\u001b[0m \u001b[32m━━━━━━━━━━━━━━━━━━━━\u001b[0m\u001b[37m\u001b[0m \u001b[1m0s\u001b[0m 3ms/step - loss: 0.0995 - val_loss: 0.1035\n",
            "Epoch 22/100\n",
            "\u001b[1m16/16\u001b[0m \u001b[32m━━━━━━━━━━━━━━━━━━━━\u001b[0m\u001b[37m\u001b[0m \u001b[1m0s\u001b[0m 3ms/step - loss: 0.0986 - val_loss: 0.1023\n",
            "Epoch 23/100\n",
            "\u001b[1m16/16\u001b[0m \u001b[32m━━━━━━━━━━━━━━━━━━━━\u001b[0m\u001b[37m\u001b[0m \u001b[1m0s\u001b[0m 4ms/step - loss: 0.0985 - val_loss: 0.1014\n",
            "Epoch 24/100\n",
            "\u001b[1m16/16\u001b[0m \u001b[32m━━━━━━━━━━━━━━━━━━━━\u001b[0m\u001b[37m\u001b[0m \u001b[1m0s\u001b[0m 4ms/step - loss: 0.0969 - val_loss: 0.1013\n",
            "Epoch 25/100\n",
            "\u001b[1m16/16\u001b[0m \u001b[32m━━━━━━━━━━━━━━━━━━━━\u001b[0m\u001b[37m\u001b[0m \u001b[1m0s\u001b[0m 3ms/step - loss: 0.0964 - val_loss: 0.1000\n",
            "Epoch 26/100\n",
            "\u001b[1m16/16\u001b[0m \u001b[32m━━━━━━━━━━━━━━━━━━━━\u001b[0m\u001b[37m\u001b[0m \u001b[1m0s\u001b[0m 3ms/step - loss: 0.0968 - val_loss: 0.0995\n",
            "Epoch 27/100\n",
            "\u001b[1m16/16\u001b[0m \u001b[32m━━━━━━━━━━━━━━━━━━━━\u001b[0m\u001b[37m\u001b[0m \u001b[1m0s\u001b[0m 4ms/step - loss: 0.0949 - val_loss: 0.0994\n",
            "Epoch 28/100\n",
            "\u001b[1m16/16\u001b[0m \u001b[32m━━━━━━━━━━━━━━━━━━━━\u001b[0m\u001b[37m\u001b[0m \u001b[1m0s\u001b[0m 4ms/step - loss: 0.0943 - val_loss: 0.0981\n",
            "Epoch 29/100\n",
            "\u001b[1m16/16\u001b[0m \u001b[32m━━━━━━━━━━━━━━━━━━━━\u001b[0m\u001b[37m\u001b[0m \u001b[1m0s\u001b[0m 3ms/step - loss: 0.0929 - val_loss: 0.0979\n",
            "Epoch 30/100\n",
            "\u001b[1m16/16\u001b[0m \u001b[32m━━━━━━━━━━━━━━━━━━━━\u001b[0m\u001b[37m\u001b[0m \u001b[1m0s\u001b[0m 4ms/step - loss: 0.0922 - val_loss: 0.0972\n",
            "Epoch 31/100\n",
            "\u001b[1m16/16\u001b[0m \u001b[32m━━━━━━━━━━━━━━━━━━━━\u001b[0m\u001b[37m\u001b[0m \u001b[1m0s\u001b[0m 5ms/step - loss: 0.0923 - val_loss: 0.0963\n",
            "Epoch 32/100\n",
            "\u001b[1m16/16\u001b[0m \u001b[32m━━━━━━━━━━━━━━━━━━━━\u001b[0m\u001b[37m\u001b[0m \u001b[1m0s\u001b[0m 5ms/step - loss: 0.0899 - val_loss: 0.0966\n",
            "Epoch 33/100\n",
            "\u001b[1m16/16\u001b[0m \u001b[32m━━━━━━━━━━━━━━━━━━━━\u001b[0m\u001b[37m\u001b[0m \u001b[1m0s\u001b[0m 4ms/step - loss: 0.0897 - val_loss: 0.0955\n",
            "Epoch 34/100\n",
            "\u001b[1m16/16\u001b[0m \u001b[32m━━━━━━━━━━━━━━━━━━━━\u001b[0m\u001b[37m\u001b[0m \u001b[1m0s\u001b[0m 3ms/step - loss: 0.0904 - val_loss: 0.0951\n",
            "Epoch 35/100\n",
            "\u001b[1m16/16\u001b[0m \u001b[32m━━━━━━━━━━━━━━━━━━━━\u001b[0m\u001b[37m\u001b[0m \u001b[1m0s\u001b[0m 4ms/step - loss: 0.0905 - val_loss: 0.0942\n",
            "Epoch 36/100\n",
            "\u001b[1m16/16\u001b[0m \u001b[32m━━━━━━━━━━━━━━━━━━━━\u001b[0m\u001b[37m\u001b[0m \u001b[1m0s\u001b[0m 5ms/step - loss: 0.0901 - val_loss: 0.0947\n",
            "Epoch 37/100\n",
            "\u001b[1m16/16\u001b[0m \u001b[32m━━━━━━━━━━━━━━━━━━━━\u001b[0m\u001b[37m\u001b[0m \u001b[1m0s\u001b[0m 4ms/step - loss: 0.0876 - val_loss: 0.0935\n",
            "Epoch 38/100\n",
            "\u001b[1m16/16\u001b[0m \u001b[32m━━━━━━━━━━━━━━━━━━━━\u001b[0m\u001b[37m\u001b[0m \u001b[1m0s\u001b[0m 6ms/step - loss: 0.0874 - val_loss: 0.0922\n",
            "Epoch 39/100\n",
            "\u001b[1m16/16\u001b[0m \u001b[32m━━━━━━━━━━━━━━━━━━━━\u001b[0m\u001b[37m\u001b[0m \u001b[1m0s\u001b[0m 5ms/step - loss: 0.0873 - val_loss: 0.0928\n",
            "Epoch 40/100\n",
            "\u001b[1m16/16\u001b[0m \u001b[32m━━━━━━━━━━━━━━━━━━━━\u001b[0m\u001b[37m\u001b[0m \u001b[1m0s\u001b[0m 6ms/step - loss: 0.0871 - val_loss: 0.0917\n",
            "Epoch 41/100\n",
            "\u001b[1m16/16\u001b[0m \u001b[32m━━━━━━━━━━━━━━━━━━━━\u001b[0m\u001b[37m\u001b[0m \u001b[1m0s\u001b[0m 5ms/step - loss: 0.0871 - val_loss: 0.0919\n",
            "Epoch 42/100\n",
            "\u001b[1m16/16\u001b[0m \u001b[32m━━━━━━━━━━━━━━━━━━━━\u001b[0m\u001b[37m\u001b[0m \u001b[1m0s\u001b[0m 5ms/step - loss: 0.0869 - val_loss: 0.0915\n",
            "Epoch 43/100\n",
            "\u001b[1m16/16\u001b[0m \u001b[32m━━━━━━━━━━━━━━━━━━━━\u001b[0m\u001b[37m\u001b[0m \u001b[1m0s\u001b[0m 6ms/step - loss: 0.0864 - val_loss: 0.0913\n",
            "Epoch 44/100\n",
            "\u001b[1m16/16\u001b[0m \u001b[32m━━━━━━━━━━━━━━━━━━━━\u001b[0m\u001b[37m\u001b[0m \u001b[1m0s\u001b[0m 5ms/step - loss: 0.0858 - val_loss: 0.0911\n",
            "Epoch 45/100\n",
            "\u001b[1m16/16\u001b[0m \u001b[32m━━━━━━━━━━━━━━━━━━━━\u001b[0m\u001b[37m\u001b[0m \u001b[1m0s\u001b[0m 6ms/step - loss: 0.0861 - val_loss: 0.0893\n",
            "Epoch 46/100\n",
            "\u001b[1m16/16\u001b[0m \u001b[32m━━━━━━━━━━━━━━━━━━━━\u001b[0m\u001b[37m\u001b[0m \u001b[1m0s\u001b[0m 5ms/step - loss: 0.0842 - val_loss: 0.0900\n",
            "Epoch 47/100\n",
            "\u001b[1m16/16\u001b[0m \u001b[32m━━━━━━━━━━━━━━━━━━━━\u001b[0m\u001b[37m\u001b[0m \u001b[1m0s\u001b[0m 6ms/step - loss: 0.0837 - val_loss: 0.0896\n",
            "Epoch 48/100\n",
            "\u001b[1m16/16\u001b[0m \u001b[32m━━━━━━━━━━━━━━━━━━━━\u001b[0m\u001b[37m\u001b[0m \u001b[1m0s\u001b[0m 6ms/step - loss: 0.0834 - val_loss: 0.0889\n",
            "Epoch 49/100\n",
            "\u001b[1m16/16\u001b[0m \u001b[32m━━━━━━━━━━━━━━━━━━━━\u001b[0m\u001b[37m\u001b[0m \u001b[1m0s\u001b[0m 6ms/step - loss: 0.0838 - val_loss: 0.0896\n",
            "Epoch 50/100\n",
            "\u001b[1m16/16\u001b[0m \u001b[32m━━━━━━━━━━━━━━━━━━━━\u001b[0m\u001b[37m\u001b[0m \u001b[1m0s\u001b[0m 6ms/step - loss: 0.0830 - val_loss: 0.0900\n",
            "Epoch 51/100\n",
            "\u001b[1m16/16\u001b[0m \u001b[32m━━━━━━━━━━━━━━━━━━━━\u001b[0m\u001b[37m\u001b[0m \u001b[1m0s\u001b[0m 6ms/step - loss: 0.0842 - val_loss: 0.0893\n",
            "Epoch 52/100\n",
            "\u001b[1m16/16\u001b[0m \u001b[32m━━━━━━━━━━━━━━━━━━━━\u001b[0m\u001b[37m\u001b[0m \u001b[1m0s\u001b[0m 6ms/step - loss: 0.0835 - val_loss: 0.0888\n",
            "Epoch 53/100\n",
            "\u001b[1m16/16\u001b[0m \u001b[32m━━━━━━━━━━━━━━━━━━━━\u001b[0m\u001b[37m\u001b[0m \u001b[1m0s\u001b[0m 6ms/step - loss: 0.0817 - val_loss: 0.0895\n",
            "Epoch 54/100\n",
            "\u001b[1m16/16\u001b[0m \u001b[32m━━━━━━━━━━━━━━━━━━━━\u001b[0m\u001b[37m\u001b[0m \u001b[1m0s\u001b[0m 8ms/step - loss: 0.0821 - val_loss: 0.0879\n",
            "Epoch 55/100\n",
            "\u001b[1m16/16\u001b[0m \u001b[32m━━━━━━━━━━━━━━━━━━━━\u001b[0m\u001b[37m\u001b[0m \u001b[1m0s\u001b[0m 4ms/step - loss: 0.0811 - val_loss: 0.0887\n",
            "Epoch 56/100\n",
            "\u001b[1m16/16\u001b[0m \u001b[32m━━━━━━━━━━━━━━━━━━━━\u001b[0m\u001b[37m\u001b[0m \u001b[1m0s\u001b[0m 3ms/step - loss: 0.0824 - val_loss: 0.0891\n",
            "Epoch 57/100\n",
            "\u001b[1m16/16\u001b[0m \u001b[32m━━━━━━━━━━━━━━━━━━━━\u001b[0m\u001b[37m\u001b[0m \u001b[1m0s\u001b[0m 3ms/step - loss: 0.0820 - val_loss: 0.0889\n",
            "Epoch 58/100\n",
            "\u001b[1m16/16\u001b[0m \u001b[32m━━━━━━━━━━━━━━━━━━━━\u001b[0m\u001b[37m\u001b[0m \u001b[1m0s\u001b[0m 5ms/step - loss: 0.0817 - val_loss: 0.0880\n",
            "Epoch 59/100\n",
            "\u001b[1m16/16\u001b[0m \u001b[32m━━━━━━━━━━━━━━━━━━━━\u001b[0m\u001b[37m\u001b[0m \u001b[1m0s\u001b[0m 4ms/step - loss: 0.0820 - val_loss: 0.0887\n",
            "Epoch 60/100\n",
            "\u001b[1m16/16\u001b[0m \u001b[32m━━━━━━━━━━━━━━━━━━━━\u001b[0m\u001b[37m\u001b[0m \u001b[1m0s\u001b[0m 5ms/step - loss: 0.0812 - val_loss: 0.0881\n",
            "Epoch 61/100\n",
            "\u001b[1m16/16\u001b[0m \u001b[32m━━━━━━━━━━━━━━━━━━━━\u001b[0m\u001b[37m\u001b[0m \u001b[1m0s\u001b[0m 4ms/step - loss: 0.0816 - val_loss: 0.0880\n",
            "Epoch 62/100\n",
            "\u001b[1m16/16\u001b[0m \u001b[32m━━━━━━━━━━━━━━━━━━━━\u001b[0m\u001b[37m\u001b[0m \u001b[1m0s\u001b[0m 5ms/step - loss: 0.0809 - val_loss: 0.0875\n",
            "Epoch 63/100\n",
            "\u001b[1m16/16\u001b[0m \u001b[32m━━━━━━━━━━━━━━━━━━━━\u001b[0m\u001b[37m\u001b[0m \u001b[1m0s\u001b[0m 3ms/step - loss: 0.0807 - val_loss: 0.0881\n",
            "Epoch 64/100\n",
            "\u001b[1m16/16\u001b[0m \u001b[32m━━━━━━━━━━━━━━━━━━━━\u001b[0m\u001b[37m\u001b[0m \u001b[1m0s\u001b[0m 3ms/step - loss: 0.0822 - val_loss: 0.0876\n",
            "Epoch 65/100\n",
            "\u001b[1m16/16\u001b[0m \u001b[32m━━━━━━━━━━━━━━━━━━━━\u001b[0m\u001b[37m\u001b[0m \u001b[1m0s\u001b[0m 4ms/step - loss: 0.0817 - val_loss: 0.0879\n",
            "Epoch 66/100\n",
            "\u001b[1m16/16\u001b[0m \u001b[32m━━━━━━━━━━━━━━━━━━━━\u001b[0m\u001b[37m\u001b[0m \u001b[1m0s\u001b[0m 3ms/step - loss: 0.0813 - val_loss: 0.0879\n",
            "Epoch 67/100\n",
            "\u001b[1m16/16\u001b[0m \u001b[32m━━━━━━━━━━━━━━━━━━━━\u001b[0m\u001b[37m\u001b[0m \u001b[1m0s\u001b[0m 3ms/step - loss: 0.0807 - val_loss: 0.0880\n",
            "Epoch 68/100\n",
            "\u001b[1m16/16\u001b[0m \u001b[32m━━━━━━━━━━━━━━━━━━━━\u001b[0m\u001b[37m\u001b[0m \u001b[1m0s\u001b[0m 3ms/step - loss: 0.0811 - val_loss: 0.0879\n",
            "Epoch 69/100\n",
            "\u001b[1m16/16\u001b[0m \u001b[32m━━━━━━━━━━━━━━━━━━━━\u001b[0m\u001b[37m\u001b[0m \u001b[1m0s\u001b[0m 5ms/step - loss: 0.0807 - val_loss: 0.0885\n",
            "Epoch 70/100\n",
            "\u001b[1m16/16\u001b[0m \u001b[32m━━━━━━━━━━━━━━━━━━━━\u001b[0m\u001b[37m\u001b[0m \u001b[1m0s\u001b[0m 3ms/step - loss: 0.0811 - val_loss: 0.0876\n",
            "Epoch 71/100\n",
            "\u001b[1m16/16\u001b[0m \u001b[32m━━━━━━━━━━━━━━━━━━━━\u001b[0m\u001b[37m\u001b[0m \u001b[1m0s\u001b[0m 5ms/step - loss: 0.0813 - val_loss: 0.0870\n",
            "Epoch 72/100\n",
            "\u001b[1m16/16\u001b[0m \u001b[32m━━━━━━━━━━━━━━━━━━━━\u001b[0m\u001b[37m\u001b[0m \u001b[1m0s\u001b[0m 4ms/step - loss: 0.0816 - val_loss: 0.0881\n",
            "Epoch 73/100\n",
            "\u001b[1m16/16\u001b[0m \u001b[32m━━━━━━━━━━━━━━━━━━━━\u001b[0m\u001b[37m\u001b[0m \u001b[1m0s\u001b[0m 3ms/step - loss: 0.0811 - val_loss: 0.0873\n",
            "Epoch 74/100\n",
            "\u001b[1m16/16\u001b[0m \u001b[32m━━━━━━━━━━━━━━━━━━━━\u001b[0m\u001b[37m\u001b[0m \u001b[1m0s\u001b[0m 4ms/step - loss: 0.0816 - val_loss: 0.0872\n",
            "Epoch 75/100\n",
            "\u001b[1m16/16\u001b[0m \u001b[32m━━━━━━━━━━━━━━━━━━━━\u001b[0m\u001b[37m\u001b[0m \u001b[1m0s\u001b[0m 3ms/step - loss: 0.0799 - val_loss: 0.0874\n",
            "Epoch 76/100\n",
            "\u001b[1m16/16\u001b[0m \u001b[32m━━━━━━━━━━━━━━━━━━━━\u001b[0m\u001b[37m\u001b[0m \u001b[1m0s\u001b[0m 4ms/step - loss: 0.0807 - val_loss: 0.0876\n",
            "Epoch 77/100\n",
            "\u001b[1m16/16\u001b[0m \u001b[32m━━━━━━━━━━━━━━━━━━━━\u001b[0m\u001b[37m\u001b[0m \u001b[1m0s\u001b[0m 4ms/step - loss: 0.0808 - val_loss: 0.0880\n",
            "Epoch 78/100\n",
            "\u001b[1m16/16\u001b[0m \u001b[32m━━━━━━━━━━━━━━━━━━━━\u001b[0m\u001b[37m\u001b[0m \u001b[1m0s\u001b[0m 3ms/step - loss: 0.0803 - val_loss: 0.0885\n",
            "Epoch 79/100\n",
            "\u001b[1m16/16\u001b[0m \u001b[32m━━━━━━━━━━━━━━━━━━━━\u001b[0m\u001b[37m\u001b[0m \u001b[1m0s\u001b[0m 3ms/step - loss: 0.0804 - val_loss: 0.0871\n",
            "Epoch 80/100\n",
            "\u001b[1m16/16\u001b[0m \u001b[32m━━━━━━━━━━━━━━━━━━━━\u001b[0m\u001b[37m\u001b[0m \u001b[1m0s\u001b[0m 4ms/step - loss: 0.0806 - val_loss: 0.0875\n",
            "Epoch 81/100\n",
            "\u001b[1m16/16\u001b[0m \u001b[32m━━━━━━━━━━━━━━━━━━━━\u001b[0m\u001b[37m\u001b[0m \u001b[1m0s\u001b[0m 3ms/step - loss: 0.0798 - val_loss: 0.0880\n",
            "Epoch 82/100\n",
            "\u001b[1m16/16\u001b[0m \u001b[32m━━━━━━━━━━━━━━━━━━━━\u001b[0m\u001b[37m\u001b[0m \u001b[1m0s\u001b[0m 4ms/step - loss: 0.0809 - val_loss: 0.0879\n",
            "Epoch 83/100\n",
            "\u001b[1m16/16\u001b[0m \u001b[32m━━━━━━━━━━━━━━━━━━━━\u001b[0m\u001b[37m\u001b[0m \u001b[1m0s\u001b[0m 4ms/step - loss: 0.0808 - val_loss: 0.0885\n",
            "Epoch 84/100\n",
            "\u001b[1m16/16\u001b[0m \u001b[32m━━━━━━━━━━━━━━━━━━━━\u001b[0m\u001b[37m\u001b[0m \u001b[1m0s\u001b[0m 4ms/step - loss: 0.0811 - val_loss: 0.0873\n",
            "Epoch 85/100\n",
            "\u001b[1m16/16\u001b[0m \u001b[32m━━━━━━━━━━━━━━━━━━━━\u001b[0m\u001b[37m\u001b[0m \u001b[1m0s\u001b[0m 4ms/step - loss: 0.0793 - val_loss: 0.0877\n",
            "Epoch 86/100\n",
            "\u001b[1m16/16\u001b[0m \u001b[32m━━━━━━━━━━━━━━━━━━━━\u001b[0m\u001b[37m\u001b[0m \u001b[1m0s\u001b[0m 3ms/step - loss: 0.0800 - val_loss: 0.0877\n",
            "Epoch 87/100\n",
            "\u001b[1m16/16\u001b[0m \u001b[32m━━━━━━━━━━━━━━━━━━━━\u001b[0m\u001b[37m\u001b[0m \u001b[1m0s\u001b[0m 3ms/step - loss: 0.0798 - val_loss: 0.0874\n",
            "Epoch 88/100\n",
            "\u001b[1m16/16\u001b[0m \u001b[32m━━━━━━━━━━━━━━━━━━━━\u001b[0m\u001b[37m\u001b[0m \u001b[1m0s\u001b[0m 4ms/step - loss: 0.0795 - val_loss: 0.0875\n",
            "Epoch 89/100\n",
            "\u001b[1m16/16\u001b[0m \u001b[32m━━━━━━━━━━━━━━━━━━━━\u001b[0m\u001b[37m\u001b[0m \u001b[1m0s\u001b[0m 3ms/step - loss: 0.0807 - val_loss: 0.0879\n",
            "Epoch 90/100\n",
            "\u001b[1m16/16\u001b[0m \u001b[32m━━━━━━━━━━━━━━━━━━━━\u001b[0m\u001b[37m\u001b[0m \u001b[1m0s\u001b[0m 3ms/step - loss: 0.0787 - val_loss: 0.0878\n",
            "Epoch 91/100\n",
            "\u001b[1m16/16\u001b[0m \u001b[32m━━━━━━━━━━━━━━━━━━━━\u001b[0m\u001b[37m\u001b[0m \u001b[1m0s\u001b[0m 5ms/step - loss: 0.0808 - val_loss: 0.0873\n",
            "Epoch 92/100\n",
            "\u001b[1m16/16\u001b[0m \u001b[32m━━━━━━━━━━━━━━━━━━━━\u001b[0m\u001b[37m\u001b[0m \u001b[1m0s\u001b[0m 4ms/step - loss: 0.0796 - val_loss: 0.0875\n",
            "Epoch 93/100\n",
            "\u001b[1m16/16\u001b[0m \u001b[32m━━━━━━━━━━━━━━━━━━━━\u001b[0m\u001b[37m\u001b[0m \u001b[1m0s\u001b[0m 4ms/step - loss: 0.0802 - val_loss: 0.0881\n",
            "Epoch 94/100\n",
            "\u001b[1m16/16\u001b[0m \u001b[32m━━━━━━━━━━━━━━━━━━━━\u001b[0m\u001b[37m\u001b[0m \u001b[1m0s\u001b[0m 4ms/step - loss: 0.0796 - val_loss: 0.0888\n",
            "Epoch 95/100\n",
            "\u001b[1m16/16\u001b[0m \u001b[32m━━━━━━━━━━━━━━━━━━━━\u001b[0m\u001b[37m\u001b[0m \u001b[1m0s\u001b[0m 4ms/step - loss: 0.0805 - val_loss: 0.0880\n",
            "Epoch 96/100\n",
            "\u001b[1m16/16\u001b[0m \u001b[32m━━━━━━━━━━━━━━━━━━━━\u001b[0m\u001b[37m\u001b[0m \u001b[1m0s\u001b[0m 4ms/step - loss: 0.0805 - val_loss: 0.0878\n",
            "Epoch 97/100\n",
            "\u001b[1m16/16\u001b[0m \u001b[32m━━━━━━━━━━━━━━━━━━━━\u001b[0m\u001b[37m\u001b[0m \u001b[1m0s\u001b[0m 4ms/step - loss: 0.0792 - val_loss: 0.0877\n",
            "Epoch 98/100\n",
            "\u001b[1m16/16\u001b[0m \u001b[32m━━━━━━━━━━━━━━━━━━━━\u001b[0m\u001b[37m\u001b[0m \u001b[1m0s\u001b[0m 3ms/step - loss: 0.0801 - val_loss: 0.0878\n",
            "Epoch 99/100\n",
            "\u001b[1m16/16\u001b[0m \u001b[32m━━━━━━━━━━━━━━━━━━━━\u001b[0m\u001b[37m\u001b[0m \u001b[1m0s\u001b[0m 3ms/step - loss: 0.0809 - val_loss: 0.0875\n",
            "Epoch 100/100\n",
            "\u001b[1m16/16\u001b[0m \u001b[32m━━━━━━━━━━━━━━━━━━━━\u001b[0m\u001b[37m\u001b[0m \u001b[1m0s\u001b[0m 3ms/step - loss: 0.0794 - val_loss: 0.0884\n"
          ]
        },
        {
          "output_type": "display_data",
          "data": {
            "text/plain": [
              "<Figure size 1200x400 with 1 Axes>"
            ],
            "image/png": "[encoded data removed]"
          },
          "metadata": {}
        }
      ]
    },
    {
      "cell_type": "markdown",
      "metadata": {
        "id": "3Vfsk3_L_QHc"
      },
      "source": [
        "# **Pengujian**"
      ]
    },
    {
      "cell_type": "code",
      "execution_count": 176,
      "metadata": {
        "colab": {
          "base_uri": "https://localhost:8080/"
        },
        "id": "wdkA_B9S9GaF",
        "outputId": "cdfd939f-4ab2-4fda-c68e-71229cc76a27"
      },
      "outputs": [
        {
          "output_type": "stream",
          "name": "stdout",
          "text": [
            "Tanggal hari ini: 08-12-2024\n",
            "\n",
            "Rekomendasi Pertandingan untuk userId 2:\n",
            " ID Match          Home         Away   Tanggal   similarity_score\n",
            "      123     Arema FC        PERSIS 12-12-2024               1.0\n",
            "      132        PERSIS    PSBS Biak 16-12-2024               1.0\n",
            "      133 Malut United  PSM Makassar 17-12-2024               1.0\n",
            "      140   Dewa United       PERSIS 21-12-2024               1.0\n",
            "      151      Persita  PSM Makassar 29-12-2024               1.0\n",
            "      153        PERSIS       PERSIB 29-12-2024               1.0\n",
            "      161        PERSIS PSM Makassar 13-01-2025               1.0\n",
            "      171         PSIS        PERSIS 20-01-2025               1.0\n",
            "      178        PERSIS      Persija 26-01-2025               1.0\n",
            "      179   Dewa United PSM Makassar 27-01-2025               1.0\n"
          ]
        }
      ],
      "source": [
        "# Mendapatkan rekomendasi untuk userId tertentu\n",
        "user_id = 2\n",
        "top_recommendations = get_recommendations_by_teams(purchase_history, matches, user_id=user_id, N=10)\n",
        "\n",
        "# Output hasil\n",
        "if not top_recommendations.empty:\n",
        "    print(f\"\\nRekomendasi Pertandingan untuk userId {user_id}:\")\n",
        "    print(top_recommendations[['ID Match', 'Home', 'Away', 'Tanggal ', 'similarity_score']].to_string(index=False))\n",
        "else:\n",
        "    print(f\"Tidak ada rekomendasi yang relevan untuk userId {user_id}.\")\n"
      ]
    },
    {
      "cell_type": "markdown",
      "source": [
        "# **Deploy**"
      ],
      "metadata": {
        "id": "Ynm0uIPNjSoH"
      }
    },
    {
      "cell_type": "code",
      "source": [
        "# Simpan model ke file .h5\n",
        "from google.colab import files\n",
        "\n",
        "model.save(\"RekomendasiHistory.h5\")\n",
        "print(\"Model saved as RekomendasiHistory.h5\")\n",
        "\n",
        "# Download file\n",
        "files.download(\"RekomendasiHistory.h5\")"
      ],
      "metadata": {
        "colab": {
          "base_uri": "https://localhost:8080/",
          "height": 72
        },
        "id": "oD57dXGt0Tjb",
        "outputId": "891ee090-3d3b-455a-d5c9-42d1404d5a08"
      },
      "execution_count": 177,
      "outputs": [
        {
          "output_type": "stream",
          "name": "stderr",
          "text": [
            "WARNING:absl:You are saving your model as an HDF5 file via `model.save()` or `keras.saving.save_model(model)`. This file format is considered legacy. We recommend using instead the native Keras format, e.g. `model.save('my_model.keras')` or `keras.saving.save_model(model, 'my_model.keras')`. \n"
          ]
        },
        {
          "output_type": "stream",
          "name": "stdout",
          "text": [
            "Model saved as RekomendasiHistory.h5\n"
          ]
        },
        {
          "output_type": "display_data",
          "data": {
            "text/plain": [
              "<IPython.core.display.Javascript object>"
            ],
            "application/javascript": [
              "\n",
              "    async function download(id, filename, size) {\n",
              "      if (!google.colab.kernel.accessAllowed) {\n",
              "        return;\n",
              "      }\n",
              "      const div = document.createElement('div');\n",
              "      const label = document.createElement('label');\n",
              "      label.textContent = `Downloading \"${filename}\": `;\n",
              "      div.appendChild(label);\n",
              "      const progress = document.createElement('progress');\n",
              "      progress.max = size;\n",
              "      div.appendChild(progress);\n",
              "      document.body.appendChild(div);\n",
              "\n",
              "      const buffers = [];\n",
              "      let downloaded = 0;\n",
              "\n",
              "      const channel = await google.colab.kernel.comms.open(id);\n",
              "      // Send a message to notify the kernel that we're ready.\n",
              "      channel.send({})\n",
              "\n",
              "      for await (const message of channel.messages) {\n",
              "        // Send a message to notify the kernel that we're ready.\n",
              "        channel.send({})\n",
              "        if (message.buffers) {\n",
              "          for (const buffer of message.buffers) {\n",
              "            buffers.push(buffer);\n",
              "            downloaded += buffer.byteLength;\n",
              "            progress.value = downloaded;\n",
              "          }\n",
              "        }\n",
              "      }\n",
              "      const blob = new Blob(buffers, {type: 'application/binary'});\n",
              "      const a = document.createElement('a');\n",
              "      a.href = window.URL.createObjectURL(blob);\n",
              "      a.download = filename;\n",
              "      div.appendChild(a);\n",
              "      a.click();\n",
              "      div.remove();\n",
              "    }\n",
              "  "
            ]
          },
          "metadata": {}
        },
        {
          "output_type": "display_data",
          "data": {
            "text/plain": [
              "<IPython.core.display.Javascript object>"
            ],
            "application/javascript": [
              "download(\"download_319a7c42-3268-4335-87a3-f09ed99ff7a0\", \"RekomendasiHistory.h5\", 91288)"
            ]
          },
          "metadata": {}
        }
      ]
    }
  ],
  "metadata": {
    "colab": {
      "provenance": [],
      "collapsed_sections": [
        "5fZXp7ktMIP6",
        "1o20PHppMPA7"
      ]
    },
    "kernelspec": {
      "display_name": "Python 3",
      "name": "python3"
    },
    "language_info": {
      "name": "python"
    }
  },
  "nbformat": 4,
  "nbformat_minor": 0
}